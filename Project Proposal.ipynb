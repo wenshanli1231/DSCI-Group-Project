{
 "cells": [
  {
   "cell_type": "markdown",
   "id": "96b46687-0885-4c1f-ab59-5a1ec80929b7",
   "metadata": {},
   "source": [
    "Project Proposal"
   ]
  },
  {
   "cell_type": "markdown",
   "id": "01a8eac2-a994-4875-a2e2-116b1ab826b5",
   "metadata": {},
   "source": [
    "Title:\n"
   ]
  },
  {
   "cell_type": "markdown",
   "id": "ca7566ae-6475-4d59-b8da-d09db18dd3fb",
   "metadata": {},
   "source": [
    "Introduction:\n",
    "\n",
    "Provide some relevant background information on the topic so that someone unfamiliar with it will be prepared to understand the rest of your proposal\n",
    "Clearly state the question you will try to answer with your project\n",
    "Identify and describe the dataset that will be used to answer the question\n"
   ]
  },
  {
   "cell_type": "markdown",
   "id": "dd09d67a-825c-4e59-8c6f-717b050d6601",
   "metadata": {},
   "source": [
    "Preliminary exploratory data analysis:\n",
    "\n",
    "Demonstrate that the dataset can be read from the web into R \n",
    "Clean and wrangle your data into a tidy format\n",
    "Using only training data, summarize the data in at least one table (this is exploratory data analysis). An example of a useful table could be one that reports the number of observations in each class, the means of the predictor variables you plan to use in your analysis and how many rows have missing data. \n",
    "Using only training data, visualize the data with at least one plot relevant to the analysis you plan to do (this is exploratory data analysis). An example of a useful visualization could be one that compares the distributions of each of the predictor variables you plan to use in your analysis."
   ]
  },
  {
   "cell_type": "markdown",
   "id": "88781018-3991-4001-88e8-13661ec59aba",
   "metadata": {},
   "source": [
    "Methods:\n",
    "\n",
    "Explain how you will conduct either your data analysis and which variables/columns you will use. Note - you do not need to use all variables/columns that exist in the raw data set. In fact, that's often not a good idea. For each variable think: is this a useful variable for prediction?\n",
    "Describe at least one way that you will visualize the results"
   ]
  },
  {
   "cell_type": "markdown",
   "id": "f64157af-3bdc-4e96-b350-513c2dc658c8",
   "metadata": {},
   "source": [
    "Expected outcomes and significance:\n",
    "\n",
    "What do you expect to find?\n",
    "What impact could such findings have?\n",
    "What future questions could this lead to?"
   ]
  },
  {
   "cell_type": "code",
   "execution_count": 2,
   "id": "a924dda0-9d6c-42e2-b1f3-a2c68d6e56f0",
   "metadata": {
    "tags": []
   },
   "outputs": [
    {
     "name": "stderr",
     "output_type": "stream",
     "text": [
      "── \u001b[1mAttaching packages\u001b[22m ─────────────────────────────────────── tidyverse 1.3.2 ──\n",
      "\u001b[32m✔\u001b[39m \u001b[34mggplot2\u001b[39m 3.4.2     \u001b[32m✔\u001b[39m \u001b[34mpurrr  \u001b[39m 1.0.1\n",
      "\u001b[32m✔\u001b[39m \u001b[34mtibble \u001b[39m 3.2.1     \u001b[32m✔\u001b[39m \u001b[34mdplyr  \u001b[39m 1.1.1\n",
      "\u001b[32m✔\u001b[39m \u001b[34mtidyr  \u001b[39m 1.3.0     \u001b[32m✔\u001b[39m \u001b[34mstringr\u001b[39m 1.5.0\n",
      "\u001b[32m✔\u001b[39m \u001b[34mreadr  \u001b[39m 2.1.3     \u001b[32m✔\u001b[39m \u001b[34mforcats\u001b[39m 0.5.2\n",
      "── \u001b[1mConflicts\u001b[22m ────────────────────────────────────────── tidyverse_conflicts() ──\n",
      "\u001b[31m✖\u001b[39m \u001b[34mdplyr\u001b[39m::\u001b[32mfilter()\u001b[39m masks \u001b[34mstats\u001b[39m::filter()\n",
      "\u001b[31m✖\u001b[39m \u001b[34mdplyr\u001b[39m::\u001b[32mlag()\u001b[39m    masks \u001b[34mstats\u001b[39m::lag()\n",
      "── \u001b[1mAttaching packages\u001b[22m ────────────────────────────────────── tidymodels 1.0.0 ──\n",
      "\n",
      "\u001b[32m✔\u001b[39m \u001b[34mbroom       \u001b[39m 1.0.2     \u001b[32m✔\u001b[39m \u001b[34mrsample     \u001b[39m 1.1.1\n",
      "\u001b[32m✔\u001b[39m \u001b[34mdials       \u001b[39m 1.1.0     \u001b[32m✔\u001b[39m \u001b[34mtune        \u001b[39m 1.0.1\n",
      "\u001b[32m✔\u001b[39m \u001b[34minfer       \u001b[39m 1.0.4     \u001b[32m✔\u001b[39m \u001b[34mworkflows   \u001b[39m 1.1.2\n",
      "\u001b[32m✔\u001b[39m \u001b[34mmodeldata   \u001b[39m 1.0.1     \u001b[32m✔\u001b[39m \u001b[34mworkflowsets\u001b[39m 1.0.0\n",
      "\u001b[32m✔\u001b[39m \u001b[34mparsnip     \u001b[39m 1.0.3     \u001b[32m✔\u001b[39m \u001b[34myardstick   \u001b[39m 1.1.0\n",
      "\u001b[32m✔\u001b[39m \u001b[34mrecipes     \u001b[39m 1.0.4     \n",
      "\n",
      "── \u001b[1mConflicts\u001b[22m ───────────────────────────────────────── tidymodels_conflicts() ──\n",
      "\u001b[31m✖\u001b[39m \u001b[34mscales\u001b[39m::\u001b[32mdiscard()\u001b[39m masks \u001b[34mpurrr\u001b[39m::discard()\n",
      "\u001b[31m✖\u001b[39m \u001b[34mdplyr\u001b[39m::\u001b[32mfilter()\u001b[39m   masks \u001b[34mstats\u001b[39m::filter()\n",
      "\u001b[31m✖\u001b[39m \u001b[34mrecipes\u001b[39m::\u001b[32mfixed()\u001b[39m  masks \u001b[34mstringr\u001b[39m::fixed()\n",
      "\u001b[31m✖\u001b[39m \u001b[34mdplyr\u001b[39m::\u001b[32mlag()\u001b[39m      masks \u001b[34mstats\u001b[39m::lag()\n",
      "\u001b[31m✖\u001b[39m \u001b[34myardstick\u001b[39m::\u001b[32mspec()\u001b[39m masks \u001b[34mreadr\u001b[39m::spec()\n",
      "\u001b[31m✖\u001b[39m \u001b[34mrecipes\u001b[39m::\u001b[32mstep()\u001b[39m   masks \u001b[34mstats\u001b[39m::step()\n",
      "\u001b[34m•\u001b[39m Dig deeper into tidy modeling with R at \u001b[32mhttps://www.tmwr.org\u001b[39m\n",
      "\n"
     ]
    }
   ],
   "source": [
    "library(tidyverse)\n",
    "library(repr)\n",
    "library(tidymodels)\n",
    "options(repr.matrix.max.rows = 6)"
   ]
  },
  {
   "cell_type": "code",
   "execution_count": 3,
   "id": "86222112-6cab-4b38-91a8-b1ccd268c704",
   "metadata": {
    "tags": []
   },
   "outputs": [
    {
     "name": "stderr",
     "output_type": "stream",
     "text": [
      "\u001b[1mRows: \u001b[22m\u001b[34m1470\u001b[39m \u001b[1mColumns: \u001b[22m\u001b[34m35\u001b[39m\n",
      "\u001b[36m──\u001b[39m \u001b[1mColumn specification\u001b[22m \u001b[36m────────────────────────────────────────────────────────\u001b[39m\n",
      "\u001b[1mDelimiter:\u001b[22m \",\"\n",
      "\u001b[31mchr\u001b[39m  (9): Attrition, BusinessTravel, Department, EducationField, Gender, Job...\n",
      "\u001b[32mdbl\u001b[39m (26): Age, DailyRate, DistanceFromHome, Education, EmployeeCount, Employ...\n",
      "\n",
      "\u001b[36mℹ\u001b[39m Use `spec()` to retrieve the full column specification for this data.\n",
      "\u001b[36mℹ\u001b[39m Specify the column types or set `show_col_types = FALSE` to quiet this message.\n"
     ]
    },
    {
     "data": {
      "text/html": [
       "<table class=\"dataframe\">\n",
       "<caption>A spec_tbl_df: 1470 × 35</caption>\n",
       "<thead>\n",
       "\t<tr><th scope=col>Age</th><th scope=col>Attrition</th><th scope=col>BusinessTravel</th><th scope=col>DailyRate</th><th scope=col>Department</th><th scope=col>DistanceFromHome</th><th scope=col>Education</th><th scope=col>EducationField</th><th scope=col>EmployeeCount</th><th scope=col>EmployeeNumber</th><th scope=col>⋯</th><th scope=col>RelationshipSatisfaction</th><th scope=col>StandardHours</th><th scope=col>StockOptionLevel</th><th scope=col>TotalWorkingYears</th><th scope=col>TrainingTimesLastYear</th><th scope=col>WorkLifeBalance</th><th scope=col>YearsAtCompany</th><th scope=col>YearsInCurrentRole</th><th scope=col>YearsSinceLastPromotion</th><th scope=col>YearsWithCurrManager</th></tr>\n",
       "\t<tr><th scope=col>&lt;dbl&gt;</th><th scope=col>&lt;chr&gt;</th><th scope=col>&lt;chr&gt;</th><th scope=col>&lt;dbl&gt;</th><th scope=col>&lt;chr&gt;</th><th scope=col>&lt;dbl&gt;</th><th scope=col>&lt;dbl&gt;</th><th scope=col>&lt;chr&gt;</th><th scope=col>&lt;dbl&gt;</th><th scope=col>&lt;dbl&gt;</th><th scope=col>⋯</th><th scope=col>&lt;dbl&gt;</th><th scope=col>&lt;dbl&gt;</th><th scope=col>&lt;dbl&gt;</th><th scope=col>&lt;dbl&gt;</th><th scope=col>&lt;dbl&gt;</th><th scope=col>&lt;dbl&gt;</th><th scope=col>&lt;dbl&gt;</th><th scope=col>&lt;dbl&gt;</th><th scope=col>&lt;dbl&gt;</th><th scope=col>&lt;dbl&gt;</th></tr>\n",
       "</thead>\n",
       "<tbody>\n",
       "\t<tr><td>41</td><td>Yes</td><td>Travel_Rarely    </td><td>1102</td><td>Sales                 </td><td>1</td><td>2</td><td>Life Sciences</td><td>1</td><td>1</td><td>⋯</td><td>1</td><td>80</td><td>0</td><td> 8</td><td>0</td><td>1</td><td> 6</td><td>4</td><td>0</td><td>5</td></tr>\n",
       "\t<tr><td>49</td><td>No </td><td>Travel_Frequently</td><td> 279</td><td>Research &amp; Development</td><td>8</td><td>1</td><td>Life Sciences</td><td>1</td><td>2</td><td>⋯</td><td>4</td><td>80</td><td>1</td><td>10</td><td>3</td><td>3</td><td>10</td><td>7</td><td>1</td><td>7</td></tr>\n",
       "\t<tr><td>37</td><td>Yes</td><td><span style=white-space:pre-wrap>Travel_Rarely    </span></td><td>1373</td><td>Research &amp; Development</td><td>2</td><td>2</td><td><span style=white-space:pre-wrap>Other        </span></td><td>1</td><td>4</td><td>⋯</td><td>2</td><td>80</td><td>0</td><td> 7</td><td>3</td><td>3</td><td> 0</td><td>0</td><td>0</td><td>0</td></tr>\n",
       "\t<tr><td>⋮</td><td>⋮</td><td>⋮</td><td>⋮</td><td>⋮</td><td>⋮</td><td>⋮</td><td>⋮</td><td>⋮</td><td>⋮</td><td>⋱</td><td>⋮</td><td>⋮</td><td>⋮</td><td>⋮</td><td>⋮</td><td>⋮</td><td>⋮</td><td>⋮</td><td>⋮</td><td>⋮</td></tr>\n",
       "\t<tr><td>27</td><td>No</td><td><span style=white-space:pre-wrap>Travel_Rarely    </span></td><td> 155</td><td>Research &amp; Development</td><td>4</td><td>3</td><td>Life Sciences</td><td>1</td><td>2064</td><td>⋯</td><td>2</td><td>80</td><td>1</td><td> 6</td><td>0</td><td>3</td><td>6</td><td>2</td><td>0</td><td>3</td></tr>\n",
       "\t<tr><td>49</td><td>No</td><td>Travel_Frequently</td><td>1023</td><td>Sales                 </td><td>2</td><td>3</td><td>Medical      </td><td>1</td><td>2065</td><td>⋯</td><td>4</td><td>80</td><td>0</td><td>17</td><td>3</td><td>2</td><td>9</td><td>6</td><td>0</td><td>8</td></tr>\n",
       "\t<tr><td>34</td><td>No</td><td><span style=white-space:pre-wrap>Travel_Rarely    </span></td><td> 628</td><td>Research &amp; Development</td><td>8</td><td>3</td><td><span style=white-space:pre-wrap>Medical      </span></td><td>1</td><td>2068</td><td>⋯</td><td>1</td><td>80</td><td>0</td><td> 6</td><td>3</td><td>4</td><td>4</td><td>3</td><td>1</td><td>2</td></tr>\n",
       "</tbody>\n",
       "</table>\n"
      ],
      "text/latex": [
       "A spec\\_tbl\\_df: 1470 × 35\n",
       "\\begin{tabular}{lllllllllllllllllllll}\n",
       " Age & Attrition & BusinessTravel & DailyRate & Department & DistanceFromHome & Education & EducationField & EmployeeCount & EmployeeNumber & ⋯ & RelationshipSatisfaction & StandardHours & StockOptionLevel & TotalWorkingYears & TrainingTimesLastYear & WorkLifeBalance & YearsAtCompany & YearsInCurrentRole & YearsSinceLastPromotion & YearsWithCurrManager\\\\\n",
       " <dbl> & <chr> & <chr> & <dbl> & <chr> & <dbl> & <dbl> & <chr> & <dbl> & <dbl> & ⋯ & <dbl> & <dbl> & <dbl> & <dbl> & <dbl> & <dbl> & <dbl> & <dbl> & <dbl> & <dbl>\\\\\n",
       "\\hline\n",
       "\t 41 & Yes & Travel\\_Rarely     & 1102 & Sales                  & 1 & 2 & Life Sciences & 1 & 1 & ⋯ & 1 & 80 & 0 &  8 & 0 & 1 &  6 & 4 & 0 & 5\\\\\n",
       "\t 49 & No  & Travel\\_Frequently &  279 & Research \\& Development & 8 & 1 & Life Sciences & 1 & 2 & ⋯ & 4 & 80 & 1 & 10 & 3 & 3 & 10 & 7 & 1 & 7\\\\\n",
       "\t 37 & Yes & Travel\\_Rarely     & 1373 & Research \\& Development & 2 & 2 & Other         & 1 & 4 & ⋯ & 2 & 80 & 0 &  7 & 3 & 3 &  0 & 0 & 0 & 0\\\\\n",
       "\t ⋮ & ⋮ & ⋮ & ⋮ & ⋮ & ⋮ & ⋮ & ⋮ & ⋮ & ⋮ & ⋱ & ⋮ & ⋮ & ⋮ & ⋮ & ⋮ & ⋮ & ⋮ & ⋮ & ⋮ & ⋮\\\\\n",
       "\t 27 & No & Travel\\_Rarely     &  155 & Research \\& Development & 4 & 3 & Life Sciences & 1 & 2064 & ⋯ & 2 & 80 & 1 &  6 & 0 & 3 & 6 & 2 & 0 & 3\\\\\n",
       "\t 49 & No & Travel\\_Frequently & 1023 & Sales                  & 2 & 3 & Medical       & 1 & 2065 & ⋯ & 4 & 80 & 0 & 17 & 3 & 2 & 9 & 6 & 0 & 8\\\\\n",
       "\t 34 & No & Travel\\_Rarely     &  628 & Research \\& Development & 8 & 3 & Medical       & 1 & 2068 & ⋯ & 1 & 80 & 0 &  6 & 3 & 4 & 4 & 3 & 1 & 2\\\\\n",
       "\\end{tabular}\n"
      ],
      "text/markdown": [
       "\n",
       "A spec_tbl_df: 1470 × 35\n",
       "\n",
       "| Age &lt;dbl&gt; | Attrition &lt;chr&gt; | BusinessTravel &lt;chr&gt; | DailyRate &lt;dbl&gt; | Department &lt;chr&gt; | DistanceFromHome &lt;dbl&gt; | Education &lt;dbl&gt; | EducationField &lt;chr&gt; | EmployeeCount &lt;dbl&gt; | EmployeeNumber &lt;dbl&gt; | ⋯ ⋯ | RelationshipSatisfaction &lt;dbl&gt; | StandardHours &lt;dbl&gt; | StockOptionLevel &lt;dbl&gt; | TotalWorkingYears &lt;dbl&gt; | TrainingTimesLastYear &lt;dbl&gt; | WorkLifeBalance &lt;dbl&gt; | YearsAtCompany &lt;dbl&gt; | YearsInCurrentRole &lt;dbl&gt; | YearsSinceLastPromotion &lt;dbl&gt; | YearsWithCurrManager &lt;dbl&gt; |\n",
       "|---|---|---|---|---|---|---|---|---|---|---|---|---|---|---|---|---|---|---|---|---|\n",
       "| 41 | Yes | Travel_Rarely     | 1102 | Sales                  | 1 | 2 | Life Sciences | 1 | 1 | ⋯ | 1 | 80 | 0 |  8 | 0 | 1 |  6 | 4 | 0 | 5 |\n",
       "| 49 | No  | Travel_Frequently |  279 | Research &amp; Development | 8 | 1 | Life Sciences | 1 | 2 | ⋯ | 4 | 80 | 1 | 10 | 3 | 3 | 10 | 7 | 1 | 7 |\n",
       "| 37 | Yes | Travel_Rarely     | 1373 | Research &amp; Development | 2 | 2 | Other         | 1 | 4 | ⋯ | 2 | 80 | 0 |  7 | 3 | 3 |  0 | 0 | 0 | 0 |\n",
       "| ⋮ | ⋮ | ⋮ | ⋮ | ⋮ | ⋮ | ⋮ | ⋮ | ⋮ | ⋮ | ⋱ | ⋮ | ⋮ | ⋮ | ⋮ | ⋮ | ⋮ | ⋮ | ⋮ | ⋮ | ⋮ |\n",
       "| 27 | No | Travel_Rarely     |  155 | Research &amp; Development | 4 | 3 | Life Sciences | 1 | 2064 | ⋯ | 2 | 80 | 1 |  6 | 0 | 3 | 6 | 2 | 0 | 3 |\n",
       "| 49 | No | Travel_Frequently | 1023 | Sales                  | 2 | 3 | Medical       | 1 | 2065 | ⋯ | 4 | 80 | 0 | 17 | 3 | 2 | 9 | 6 | 0 | 8 |\n",
       "| 34 | No | Travel_Rarely     |  628 | Research &amp; Development | 8 | 3 | Medical       | 1 | 2068 | ⋯ | 1 | 80 | 0 |  6 | 3 | 4 | 4 | 3 | 1 | 2 |\n",
       "\n"
      ],
      "text/plain": [
       "     Age Attrition BusinessTravel    DailyRate Department            \n",
       "1    41  Yes       Travel_Rarely     1102      Sales                 \n",
       "2    49  No        Travel_Frequently  279      Research & Development\n",
       "3    37  Yes       Travel_Rarely     1373      Research & Development\n",
       "⋮    ⋮   ⋮         ⋮                 ⋮         ⋮                     \n",
       "1468 27  No        Travel_Rarely      155      Research & Development\n",
       "1469 49  No        Travel_Frequently 1023      Sales                 \n",
       "1470 34  No        Travel_Rarely      628      Research & Development\n",
       "     DistanceFromHome Education EducationField EmployeeCount EmployeeNumber ⋯\n",
       "1    1                2         Life Sciences  1             1              ⋯\n",
       "2    8                1         Life Sciences  1             2              ⋯\n",
       "3    2                2         Other          1             4              ⋯\n",
       "⋮    ⋮                ⋮         ⋮              ⋮             ⋮              ⋱\n",
       "1468 4                3         Life Sciences  1             2064           ⋯\n",
       "1469 2                3         Medical        1             2065           ⋯\n",
       "1470 8                3         Medical        1             2068           ⋯\n",
       "     RelationshipSatisfaction StandardHours StockOptionLevel TotalWorkingYears\n",
       "1    1                        80            0                 8               \n",
       "2    4                        80            1                10               \n",
       "3    2                        80            0                 7               \n",
       "⋮    ⋮                        ⋮             ⋮                ⋮                \n",
       "1468 2                        80            1                 6               \n",
       "1469 4                        80            0                17               \n",
       "1470 1                        80            0                 6               \n",
       "     TrainingTimesLastYear WorkLifeBalance YearsAtCompany YearsInCurrentRole\n",
       "1    0                     1                6             4                 \n",
       "2    3                     3               10             7                 \n",
       "3    3                     3                0             0                 \n",
       "⋮    ⋮                     ⋮               ⋮              ⋮                 \n",
       "1468 0                     3               6              2                 \n",
       "1469 3                     2               9              6                 \n",
       "1470 3                     4               4              3                 \n",
       "     YearsSinceLastPromotion YearsWithCurrManager\n",
       "1    0                       5                   \n",
       "2    1                       7                   \n",
       "3    0                       0                   \n",
       "⋮    ⋮                       ⋮                   \n",
       "1468 0                       3                   \n",
       "1469 0                       8                   \n",
       "1470 1                       2                   "
      ]
     },
     "metadata": {},
     "output_type": "display_data"
    }
   ],
   "source": [
    "attrition_data <- read_csv(\"WA_Fn-UseC_-HR-Employee-Attrition.csv\")\n",
    "attrition_data"
   ]
  },
  {
   "cell_type": "code",
   "execution_count": 4,
   "id": "5da1dfec-25d0-4514-b81a-96be48e78323",
   "metadata": {},
   "outputs": [],
   "source": [
    "attrition_data <- attrition_data |>\n",
    "        mutate(Attrition = as_factor(Attrition))"
   ]
  },
  {
   "cell_type": "code",
   "execution_count": 6,
   "id": "0fadbd0b-6e10-471c-8ebc-c99aba592d3c",
   "metadata": {
    "tags": []
   },
   "outputs": [
    {
     "name": "stdout",
     "output_type": "stream",
     "text": [
      "Rows: 1,101\n",
      "Columns: 35\n",
      "$ Age                      \u001b[3m\u001b[90m<dbl>\u001b[39m\u001b[23m 49, 33, 27, 32, 59, 30, 38, 36, 35, 31, 34, 2…\n",
      "$ Attrition                \u001b[3m\u001b[90m<fct>\u001b[39m\u001b[23m No, No, No, No, No, No, No, No, No, No, No, N…\n",
      "$ BusinessTravel           \u001b[3m\u001b[90m<chr>\u001b[39m\u001b[23m \"Travel_Frequently\", \"Travel_Frequently\", \"Tr…\n",
      "$ DailyRate                \u001b[3m\u001b[90m<dbl>\u001b[39m\u001b[23m 279, 1392, 591, 1005, 1324, 1358, 216, 1299, …\n",
      "$ Department               \u001b[3m\u001b[90m<chr>\u001b[39m\u001b[23m \"Research & Development\", \"Research & Develop…\n",
      "$ DistanceFromHome         \u001b[3m\u001b[90m<dbl>\u001b[39m\u001b[23m 8, 3, 2, 2, 3, 24, 23, 27, 16, 26, 19, 21, 16…\n",
      "$ Education                \u001b[3m\u001b[90m<dbl>\u001b[39m\u001b[23m 1, 4, 1, 2, 3, 1, 3, 3, 3, 1, 2, 4, 2, 3, 2, …\n",
      "$ EducationField           \u001b[3m\u001b[90m<chr>\u001b[39m\u001b[23m \"Life Sciences\", \"Life Sciences\", \"Medical\", …\n",
      "$ EmployeeCount            \u001b[3m\u001b[90m<dbl>\u001b[39m\u001b[23m 1, 1, 1, 1, 1, 1, 1, 1, 1, 1, 1, 1, 1, 1, 1, …\n",
      "$ EmployeeNumber           \u001b[3m\u001b[90m<dbl>\u001b[39m\u001b[23m 2, 5, 7, 8, 10, 11, 12, 13, 14, 16, 18, 20, 2…\n",
      "$ EnvironmentSatisfaction  \u001b[3m\u001b[90m<dbl>\u001b[39m\u001b[23m 3, 4, 1, 4, 3, 4, 4, 3, 1, 1, 2, 2, 4, 4, 1, …\n",
      "$ Gender                   \u001b[3m\u001b[90m<chr>\u001b[39m\u001b[23m \"Male\", \"Female\", \"Male\", \"Male\", \"Female\", \"…\n",
      "$ HourlyRate               \u001b[3m\u001b[90m<dbl>\u001b[39m\u001b[23m 61, 56, 40, 79, 81, 67, 44, 94, 84, 31, 93, 5…\n",
      "$ JobInvolvement           \u001b[3m\u001b[90m<dbl>\u001b[39m\u001b[23m 2, 3, 3, 3, 4, 3, 2, 3, 4, 3, 3, 4, 4, 3, 4, …\n",
      "$ JobLevel                 \u001b[3m\u001b[90m<dbl>\u001b[39m\u001b[23m 2, 1, 1, 1, 1, 1, 3, 2, 1, 1, 1, 3, 1, 1, 2, …\n",
      "$ JobRole                  \u001b[3m\u001b[90m<chr>\u001b[39m\u001b[23m \"Research Scientist\", \"Research Scientist\", \"…\n",
      "$ JobSatisfaction          \u001b[3m\u001b[90m<dbl>\u001b[39m\u001b[23m 2, 3, 2, 4, 1, 3, 3, 3, 2, 3, 4, 1, 4, 4, 3, …\n",
      "$ MaritalStatus            \u001b[3m\u001b[90m<chr>\u001b[39m\u001b[23m \"Married\", \"Married\", \"Married\", \"Single\", \"M…\n",
      "$ MonthlyIncome            \u001b[3m\u001b[90m<dbl>\u001b[39m\u001b[23m 5130, 2909, 3468, 3068, 2670, 2693, 9526, 523…\n",
      "$ MonthlyRate              \u001b[3m\u001b[90m<dbl>\u001b[39m\u001b[23m 24907, 23159, 16632, 11864, 9964, 13335, 8787…\n",
      "$ NumCompaniesWorked       \u001b[3m\u001b[90m<dbl>\u001b[39m\u001b[23m 1, 1, 9, 0, 4, 1, 0, 6, 0, 1, 0, 1, 1, 5, 0, …\n",
      "$ Over18                   \u001b[3m\u001b[90m<chr>\u001b[39m\u001b[23m \"Y\", \"Y\", \"Y\", \"Y\", \"Y\", \"Y\", \"Y\", \"Y\", \"Y\", …\n",
      "$ OverTime                 \u001b[3m\u001b[90m<chr>\u001b[39m\u001b[23m \"No\", \"Yes\", \"No\", \"No\", \"Yes\", \"No\", \"No\", \"…\n",
      "$ PercentSalaryHike        \u001b[3m\u001b[90m<dbl>\u001b[39m\u001b[23m 23, 11, 12, 13, 20, 22, 21, 13, 13, 17, 11, 1…\n",
      "$ PerformanceRating        \u001b[3m\u001b[90m<dbl>\u001b[39m\u001b[23m 4, 3, 3, 3, 4, 4, 4, 3, 3, 3, 3, 3, 3, 3, 3, …\n",
      "$ RelationshipSatisfaction \u001b[3m\u001b[90m<dbl>\u001b[39m\u001b[23m 4, 3, 4, 3, 1, 2, 2, 2, 3, 4, 3, 3, 2, 3, 4, …\n",
      "$ StandardHours            \u001b[3m\u001b[90m<dbl>\u001b[39m\u001b[23m 80, 80, 80, 80, 80, 80, 80, 80, 80, 80, 80, 8…\n",
      "$ StockOptionLevel         \u001b[3m\u001b[90m<dbl>\u001b[39m\u001b[23m 1, 0, 1, 0, 3, 1, 0, 2, 1, 1, 1, 1, 2, 0, 1, …\n",
      "$ TotalWorkingYears        \u001b[3m\u001b[90m<dbl>\u001b[39m\u001b[23m 10, 8, 6, 8, 12, 1, 10, 17, 6, 5, 3, 10, 1, 6…\n",
      "$ TrainingTimesLastYear    \u001b[3m\u001b[90m<dbl>\u001b[39m\u001b[23m 3, 3, 3, 2, 3, 2, 2, 3, 5, 1, 2, 1, 2, 3, 5, …\n",
      "$ WorkLifeBalance          \u001b[3m\u001b[90m<dbl>\u001b[39m\u001b[23m 3, 3, 3, 2, 2, 3, 3, 2, 3, 2, 3, 3, 2, 3, 2, …\n",
      "$ YearsAtCompany           \u001b[3m\u001b[90m<dbl>\u001b[39m\u001b[23m 10, 8, 2, 7, 1, 1, 9, 7, 5, 5, 2, 10, 1, 3, 4…\n",
      "$ YearsInCurrentRole       \u001b[3m\u001b[90m<dbl>\u001b[39m\u001b[23m 7, 7, 2, 7, 0, 0, 7, 7, 4, 2, 2, 9, 0, 2, 2, …\n",
      "$ YearsSinceLastPromotion  \u001b[3m\u001b[90m<dbl>\u001b[39m\u001b[23m 1, 3, 2, 3, 0, 0, 1, 7, 0, 4, 1, 8, 0, 1, 1, …\n",
      "$ YearsWithCurrManager     \u001b[3m\u001b[90m<dbl>\u001b[39m\u001b[23m 7, 0, 2, 6, 0, 0, 8, 7, 3, 3, 2, 8, 0, 2, 3, …\n",
      "Rows: 369\n",
      "Columns: 35\n",
      "$ Age                      \u001b[3m\u001b[90m<dbl>\u001b[39m\u001b[23m 29, 32, 53, 36, 21, 53, 44, 35, 36, 30, 48, 2…\n",
      "$ Attrition                \u001b[3m\u001b[90m<fct>\u001b[39m\u001b[23m No, No, No, Yes, No, No, No, No, No, No, Yes,…\n",
      "$ BusinessTravel           \u001b[3m\u001b[90m<chr>\u001b[39m\u001b[23m \"Travel_Rarely\", \"Travel_Rarely\", \"Travel_Rar…\n",
      "$ DailyRate                \u001b[3m\u001b[90m<dbl>\u001b[39m\u001b[23m 153, 334, 1219, 1218, 391, 1282, 1459, 890, 8…\n",
      "$ Department               \u001b[3m\u001b[90m<chr>\u001b[39m\u001b[23m \"Research & Development\", \"Research & Develop…\n",
      "$ DistanceFromHome         \u001b[3m\u001b[90m<dbl>\u001b[39m\u001b[23m 15, 5, 2, 9, 15, 5, 10, 2, 5, 1, 1, 5, 1, 7, …\n",
      "$ Education                \u001b[3m\u001b[90m<dbl>\u001b[39m\u001b[23m 2, 2, 4, 4, 2, 3, 4, 3, 4, 2, 2, 4, 2, 2, 3, …\n",
      "$ EducationField           \u001b[3m\u001b[90m<chr>\u001b[39m\u001b[23m \"Life Sciences\", \"Life Sciences\", \"Life Scien…\n",
      "$ EmployeeCount            \u001b[3m\u001b[90m<dbl>\u001b[39m\u001b[23m 1, 1, 1, 1, 1, 1, 1, 1, 1, 1, 1, 1, 1, 1, 1, …\n",
      "$ EmployeeNumber           \u001b[3m\u001b[90m<dbl>\u001b[39m\u001b[23m 15, 21, 23, 27, 30, 32, 40, 49, 51, 57, 64, 6…\n",
      "$ EnvironmentSatisfaction  \u001b[3m\u001b[90m<dbl>\u001b[39m\u001b[23m 4, 1, 1, 3, 3, 3, 4, 4, 2, 3, 1, 3, 1, 2, 2, …\n",
      "$ Gender                   \u001b[3m\u001b[90m<chr>\u001b[39m\u001b[23m \"Female\", \"Male\", \"Female\", \"Male\", \"Male\", \"…\n",
      "$ HourlyRate               \u001b[3m\u001b[90m<dbl>\u001b[39m\u001b[23m 49, 80, 78, 82, 96, 58, 41, 97, 82, 58, 98, 5…\n",
      "$ JobInvolvement           \u001b[3m\u001b[90m<dbl>\u001b[39m\u001b[23m 2, 4, 2, 2, 3, 3, 3, 3, 2, 3, 2, 3, 3, 2, 3, …\n",
      "$ JobLevel                 \u001b[3m\u001b[90m<dbl>\u001b[39m\u001b[23m 2, 1, 4, 1, 1, 5, 2, 1, 1, 2, 3, 1, 3, 5, 3, …\n",
      "$ JobRole                  \u001b[3m\u001b[90m<chr>\u001b[39m\u001b[23m \"Laboratory Technician\", \"Research Scientist\"…\n",
      "$ JobSatisfaction          \u001b[3m\u001b[90m<dbl>\u001b[39m\u001b[23m 3, 2, 4, 1, 4, 3, 4, 4, 1, 4, 3, 3, 4, 3, 1, …\n",
      "$ MaritalStatus            \u001b[3m\u001b[90m<chr>\u001b[39m\u001b[23m \"Single\", \"Divorced\", \"Married\", \"Single\", \"S…\n",
      "$ MonthlyIncome            \u001b[3m\u001b[90m<dbl>\u001b[39m\u001b[23m 4193, 3298, 15427, 3407, 1232, 19094, 6465, 2…\n",
      "$ MonthlyRate              \u001b[3m\u001b[90m<dbl>\u001b[39m\u001b[23m 12682, 15053, 22021, 6986, 19281, 10735, 1912…\n",
      "$ NumCompaniesWorked       \u001b[3m\u001b[90m<dbl>\u001b[39m\u001b[23m 0, 0, 2, 7, 1, 4, 2, 1, 9, 1, 9, 1, 1, 5, 2, …\n",
      "$ Over18                   \u001b[3m\u001b[90m<chr>\u001b[39m\u001b[23m \"Y\", \"Y\", \"Y\", \"Y\", \"Y\", \"Y\", \"Y\", \"Y\", \"Y\", …\n",
      "$ OverTime                 \u001b[3m\u001b[90m<chr>\u001b[39m\u001b[23m \"Yes\", \"Yes\", \"No\", \"No\", \"No\", \"No\", \"Yes\", …\n",
      "$ PercentSalaryHike        \u001b[3m\u001b[90m<dbl>\u001b[39m\u001b[23m 12, 12, 16, 23, 14, 11, 13, 13, 14, 23, 13, 1…\n",
      "$ PerformanceRating        \u001b[3m\u001b[90m<dbl>\u001b[39m\u001b[23m 3, 3, 3, 4, 3, 3, 3, 3, 3, 4, 3, 3, 3, 3, 3, …\n",
      "$ RelationshipSatisfaction \u001b[3m\u001b[90m<dbl>\u001b[39m\u001b[23m 4, 4, 3, 2, 4, 4, 4, 1, 4, 4, 4, 3, 3, 4, 3, …\n",
      "$ StandardHours            \u001b[3m\u001b[90m<dbl>\u001b[39m\u001b[23m 80, 80, 80, 80, 80, 80, 80, 80, 80, 80, 80, 8…\n",
      "$ StockOptionLevel         \u001b[3m\u001b[90m<dbl>\u001b[39m\u001b[23m 0, 2, 0, 0, 0, 1, 0, 0, 1, 0, 0, 0, 0, 1, 1, …\n",
      "$ TotalWorkingYears        \u001b[3m\u001b[90m<dbl>\u001b[39m\u001b[23m 10, 7, 31, 10, 0, 26, 9, 2, 6, 12, 23, 2, 15,…\n",
      "$ TrainingTimesLastYear    \u001b[3m\u001b[90m<dbl>\u001b[39m\u001b[23m 3, 5, 3, 4, 6, 3, 5, 3, 3, 2, 2, 3, 1, 2, 2, …\n",
      "$ WorkLifeBalance          \u001b[3m\u001b[90m<dbl>\u001b[39m\u001b[23m 3, 2, 3, 3, 3, 2, 4, 3, 4, 3, 3, 2, 3, 2, 3, …\n",
      "$ YearsAtCompany           \u001b[3m\u001b[90m<dbl>\u001b[39m\u001b[23m 9, 6, 25, 5, 0, 14, 4, 2, 1, 12, 1, 2, 15, 27…\n",
      "$ YearsInCurrentRole       \u001b[3m\u001b[90m<dbl>\u001b[39m\u001b[23m 5, 2, 8, 3, 0, 13, 2, 2, 1, 8, 0, 2, 14, 3, 0…\n",
      "$ YearsSinceLastPromotion  \u001b[3m\u001b[90m<dbl>\u001b[39m\u001b[23m 0, 0, 3, 0, 0, 4, 1, 2, 0, 3, 0, 2, 8, 13, 0,…\n",
      "$ YearsWithCurrManager     \u001b[3m\u001b[90m<dbl>\u001b[39m\u001b[23m 8, 5, 7, 3, 0, 8, 3, 2, 0, 7, 0, 2, 12, 8, 0,…\n"
     ]
    }
   ],
   "source": [
    "attrition_split <- initial_split(attrition_data, prop = 0.75, strata = Attrition)\n",
    "attrition_train <- training(attrition_split)\n",
    "attrition_test <- testing(attrition_split) \n",
    "\n",
    "glimpse(attrition_train)\n",
    "glimpse(attrition_test)"
   ]
  },
  {
   "cell_type": "code",
   "execution_count": 10,
   "id": "2260f152-37ad-4c06-b433-14b70af0717e",
   "metadata": {
    "tags": []
   },
   "outputs": [
    {
     "data": {
      "text/html": [
       "<table class=\"dataframe\">\n",
       "<caption>A tibble: 2 × 3</caption>\n",
       "<thead>\n",
       "\t<tr><th scope=col>Attrition</th><th scope=col>n</th><th scope=col>percent</th></tr>\n",
       "\t<tr><th scope=col>&lt;fct&gt;</th><th scope=col>&lt;int&gt;</th><th scope=col>&lt;dbl&gt;</th></tr>\n",
       "</thead>\n",
       "<tbody>\n",
       "\t<tr><td>Yes</td><td>177</td><td>16.07629</td></tr>\n",
       "\t<tr><td>No </td><td>924</td><td>83.92371</td></tr>\n",
       "</tbody>\n",
       "</table>\n"
      ],
      "text/latex": [
       "A tibble: 2 × 3\n",
       "\\begin{tabular}{lll}\n",
       " Attrition & n & percent\\\\\n",
       " <fct> & <int> & <dbl>\\\\\n",
       "\\hline\n",
       "\t Yes & 177 & 16.07629\\\\\n",
       "\t No  & 924 & 83.92371\\\\\n",
       "\\end{tabular}\n"
      ],
      "text/markdown": [
       "\n",
       "A tibble: 2 × 3\n",
       "\n",
       "| Attrition &lt;fct&gt; | n &lt;int&gt; | percent &lt;dbl&gt; |\n",
       "|---|---|---|\n",
       "| Yes | 177 | 16.07629 |\n",
       "| No  | 924 | 83.92371 |\n",
       "\n"
      ],
      "text/plain": [
       "  Attrition n   percent \n",
       "1 Yes       177 16.07629\n",
       "2 No        924 83.92371"
      ]
     },
     "metadata": {},
     "output_type": "display_data"
    },
    {
     "data": {
      "text/html": [
       "<table class=\"dataframe\">\n",
       "<caption>A tibble: 2 × 3</caption>\n",
       "<thead>\n",
       "\t<tr><th scope=col>Attrition</th><th scope=col>n</th><th scope=col>percent</th></tr>\n",
       "\t<tr><th scope=col>&lt;fct&gt;</th><th scope=col>&lt;int&gt;</th><th scope=col>&lt;dbl&gt;</th></tr>\n",
       "</thead>\n",
       "<tbody>\n",
       "\t<tr><td>Yes</td><td>177</td><td>16.07629</td></tr>\n",
       "\t<tr><td>No </td><td>924</td><td>83.92371</td></tr>\n",
       "</tbody>\n",
       "</table>\n"
      ],
      "text/latex": [
       "A tibble: 2 × 3\n",
       "\\begin{tabular}{lll}\n",
       " Attrition & n & percent\\\\\n",
       " <fct> & <int> & <dbl>\\\\\n",
       "\\hline\n",
       "\t Yes & 177 & 16.07629\\\\\n",
       "\t No  & 924 & 83.92371\\\\\n",
       "\\end{tabular}\n"
      ],
      "text/markdown": [
       "\n",
       "A tibble: 2 × 3\n",
       "\n",
       "| Attrition &lt;fct&gt; | n &lt;int&gt; | percent &lt;dbl&gt; |\n",
       "|---|---|---|\n",
       "| Yes | 177 | 16.07629 |\n",
       "| No  | 924 | 83.92371 |\n",
       "\n"
      ],
      "text/plain": [
       "  Attrition n   percent \n",
       "1 Yes       177 16.07629\n",
       "2 No        924 83.92371"
      ]
     },
     "metadata": {},
     "output_type": "display_data"
    }
   ],
   "source": [
    "attrition_proportions <- attrition_train |>\n",
    "                      group_by(Attrition) |>\n",
    "                      summarize(n = n()) |>\n",
    "                      mutate(percent = 100*n/nrow(attrition_train))\n",
    "\n",
    "attrition_proportions\n",
    "\n",
    "attrition_proportions_train <- attrition_train |>\n",
    "                      group_by(Attrition) |>\n",
    "                      summarize(n = n()) |>\n",
    "                      mutate(percent = 100*n/nrow(attrition_train))\n",
    "\n",
    "attrition_proportions_train"
   ]
  },
  {
   "cell_type": "code",
   "execution_count": null,
   "id": "1479cd2e-21c1-4b1f-abe4-df851e4b8310",
   "metadata": {},
   "outputs": [],
   "source": []
  }
 ],
 "metadata": {
  "kernelspec": {
   "display_name": "R",
   "language": "R",
   "name": "ir"
  },
  "language_info": {
   "codemirror_mode": "r",
   "file_extension": ".r",
   "mimetype": "text/x-r-source",
   "name": "R",
   "pygments_lexer": "r",
   "version": "4.2.2"
  }
 },
 "nbformat": 4,
 "nbformat_minor": 5
}
