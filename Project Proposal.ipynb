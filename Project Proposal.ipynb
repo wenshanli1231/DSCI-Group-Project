{
 "cells": [
  {
   "cell_type": "markdown",
   "id": "96b46687-0885-4c1f-ab59-5a1ec80929b7",
   "metadata": {},
   "source": [
    "Project Proposal"
   ]
  },
  {
   "cell_type": "markdown",
   "id": "01a8eac2-a994-4875-a2e2-116b1ab826b5",
   "metadata": {},
   "source": [
    "Title:\n"
   ]
  },
  {
   "cell_type": "markdown",
   "id": "ca7566ae-6475-4d59-b8da-d09db18dd3fb",
   "metadata": {},
   "source": [
    "Introduction:\n",
    "\n",
    "Provide some relevant background information on the topic so that someone unfamiliar with it will be prepared to understand the rest of your proposal\n",
    "Clearly state the question you will try to answer with your project\n",
    "Identify and describe the dataset that will be used to answer the question\n"
   ]
  },
  {
   "cell_type": "markdown",
   "id": "dd09d67a-825c-4e59-8c6f-717b050d6601",
   "metadata": {},
   "source": [
    "Preliminary exploratory data analysis:\n",
    "\n",
    "Demonstrate that the dataset can be read from the web into R \n",
    "Clean and wrangle your data into a tidy format\n",
    "Using only training data, summarize the data in at least one table (this is exploratory data analysis). An example of a useful table could be one that reports the number of observations in each class, the means of the predictor variables you plan to use in your analysis and how many rows have missing data. \n",
    "Using only training data, visualize the data with at least one plot relevant to the analysis you plan to do (this is exploratory data analysis). An example of a useful visualization could be one that compares the distributions of each of the predictor variables you plan to use in your analysis."
   ]
  },
  {
   "cell_type": "markdown",
   "id": "88781018-3991-4001-88e8-13661ec59aba",
   "metadata": {},
   "source": [
    "Methods:\n",
    "\n",
    "Explain how you will conduct either your data analysis and which variables/columns you will use. Note - you do not need to use all variables/columns that exist in the raw data set. In fact, that's often not a good idea. For each variable think: is this a useful variable for prediction?\n",
    "Describe at least one way that you will visualize the results"
   ]
  },
  {
   "cell_type": "markdown",
   "id": "f64157af-3bdc-4e96-b350-513c2dc658c8",
   "metadata": {},
   "source": [
    "Expected outcomes and significance:\n",
    "\n",
    "What do you expect to find?\n",
    "What impact could such findings have?\n",
    "What future questions could this lead to?"
   ]
  },
  {
   "cell_type": "code",
   "execution_count": 2,
   "id": "a924dda0-9d6c-42e2-b1f3-a2c68d6e56f0",
   "metadata": {
    "tags": []
   },
   "outputs": [
    {
     "name": "stderr",
     "output_type": "stream",
     "text": [
      "── \u001b[1mAttaching packages\u001b[22m ─────────────────────────────────────── tidyverse 1.3.2 ──\n",
      "\u001b[32m✔\u001b[39m \u001b[34mggplot2\u001b[39m 3.4.2     \u001b[32m✔\u001b[39m \u001b[34mpurrr  \u001b[39m 1.0.1\n",
      "\u001b[32m✔\u001b[39m \u001b[34mtibble \u001b[39m 3.2.1     \u001b[32m✔\u001b[39m \u001b[34mdplyr  \u001b[39m 1.1.1\n",
      "\u001b[32m✔\u001b[39m \u001b[34mtidyr  \u001b[39m 1.3.0     \u001b[32m✔\u001b[39m \u001b[34mstringr\u001b[39m 1.5.0\n",
      "\u001b[32m✔\u001b[39m \u001b[34mreadr  \u001b[39m 2.1.3     \u001b[32m✔\u001b[39m \u001b[34mforcats\u001b[39m 0.5.2\n",
      "── \u001b[1mConflicts\u001b[22m ────────────────────────────────────────── tidyverse_conflicts() ──\n",
      "\u001b[31m✖\u001b[39m \u001b[34mdplyr\u001b[39m::\u001b[32mfilter()\u001b[39m masks \u001b[34mstats\u001b[39m::filter()\n",
      "\u001b[31m✖\u001b[39m \u001b[34mdplyr\u001b[39m::\u001b[32mlag()\u001b[39m    masks \u001b[34mstats\u001b[39m::lag()\n",
      "── \u001b[1mAttaching packages\u001b[22m ────────────────────────────────────── tidymodels 1.0.0 ──\n",
      "\n",
      "\u001b[32m✔\u001b[39m \u001b[34mbroom       \u001b[39m 1.0.2     \u001b[32m✔\u001b[39m \u001b[34mrsample     \u001b[39m 1.1.1\n",
      "\u001b[32m✔\u001b[39m \u001b[34mdials       \u001b[39m 1.1.0     \u001b[32m✔\u001b[39m \u001b[34mtune        \u001b[39m 1.0.1\n",
      "\u001b[32m✔\u001b[39m \u001b[34minfer       \u001b[39m 1.0.4     \u001b[32m✔\u001b[39m \u001b[34mworkflows   \u001b[39m 1.1.2\n",
      "\u001b[32m✔\u001b[39m \u001b[34mmodeldata   \u001b[39m 1.0.1     \u001b[32m✔\u001b[39m \u001b[34mworkflowsets\u001b[39m 1.0.0\n",
      "\u001b[32m✔\u001b[39m \u001b[34mparsnip     \u001b[39m 1.0.3     \u001b[32m✔\u001b[39m \u001b[34myardstick   \u001b[39m 1.1.0\n",
      "\u001b[32m✔\u001b[39m \u001b[34mrecipes     \u001b[39m 1.0.4     \n",
      "\n",
      "── \u001b[1mConflicts\u001b[22m ───────────────────────────────────────── tidymodels_conflicts() ──\n",
      "\u001b[31m✖\u001b[39m \u001b[34mscales\u001b[39m::\u001b[32mdiscard()\u001b[39m masks \u001b[34mpurrr\u001b[39m::discard()\n",
      "\u001b[31m✖\u001b[39m \u001b[34mdplyr\u001b[39m::\u001b[32mfilter()\u001b[39m   masks \u001b[34mstats\u001b[39m::filter()\n",
      "\u001b[31m✖\u001b[39m \u001b[34mrecipes\u001b[39m::\u001b[32mfixed()\u001b[39m  masks \u001b[34mstringr\u001b[39m::fixed()\n",
      "\u001b[31m✖\u001b[39m \u001b[34mdplyr\u001b[39m::\u001b[32mlag()\u001b[39m      masks \u001b[34mstats\u001b[39m::lag()\n",
      "\u001b[31m✖\u001b[39m \u001b[34myardstick\u001b[39m::\u001b[32mspec()\u001b[39m masks \u001b[34mreadr\u001b[39m::spec()\n",
      "\u001b[31m✖\u001b[39m \u001b[34mrecipes\u001b[39m::\u001b[32mstep()\u001b[39m   masks \u001b[34mstats\u001b[39m::step()\n",
      "\u001b[34m•\u001b[39m Learn how to get started at \u001b[32mhttps://www.tidymodels.org/start/\u001b[39m\n",
      "\n"
     ]
    }
   ],
   "source": [
    "library(tidyverse)\n",
    "library(repr)\n",
    "library(tidymodels)\n",
    "options(repr.matrix.max.rows = 6)"
   ]
  },
  {
   "cell_type": "code",
   "execution_count": 12,
   "id": "86222112-6cab-4b38-91a8-b1ccd268c704",
   "metadata": {
    "tags": []
   },
   "outputs": [
    {
     "name": "stderr",
     "output_type": "stream",
     "text": [
      "Warning message in download.file(url, destfile = \"DSCI-Group-Project/Employee-Attrition.csv\"):\n",
      "“URL https://raw.githubusercontent.com/wenshanli1231/DSCI-Group-Project/main/Employee-Attrition.csv: cannot open destfile 'DSCI-Group-Project/Employee-Attrition.csv', reason 'No such file or directory'”\n",
      "Warning message in download.file(url, destfile = \"DSCI-Group-Project/Employee-Attrition.csv\"):\n",
      "“download had nonzero exit status”\n"
     ]
    },
    {
     "ename": "ERROR",
     "evalue": "Error: 'DSCI-Group-Project/Employee-Attrition.csv' does not exist in current working directory ('/home/jovyan/Group Project /Proposal /DSCI-Group-Project').\n",
     "output_type": "error",
     "traceback": [
      "Error: 'DSCI-Group-Project/Employee-Attrition.csv' does not exist in current working directory ('/home/jovyan/Group Project /Proposal /DSCI-Group-Project').\nTraceback:\n",
      "1. read_csv(\"DSCI-Group-Project/Employee-Attrition.csv\")",
      "2. vroom::vroom(file, delim = \",\", col_names = col_names, col_types = col_types, \n .     col_select = {\n .         {\n .             col_select\n .         }\n .     }, id = id, .name_repair = name_repair, skip = skip, n_max = n_max, \n .     na = na, quote = quote, comment = comment, skip_empty_rows = skip_empty_rows, \n .     trim_ws = trim_ws, escape_double = TRUE, escape_backslash = FALSE, \n .     locale = locale, guess_max = guess_max, show_col_types = show_col_types, \n .     progress = progress, altrep = lazy, num_threads = num_threads)",
      "3. vroom_(file, delim = delim %||% col_types$delim, col_names = col_names, \n .     col_types = col_types, id = id, skip = skip, col_select = col_select, \n .     name_repair = .name_repair, na = na, quote = quote, trim_ws = trim_ws, \n .     escape_double = escape_double, escape_backslash = escape_backslash, \n .     comment = comment, skip_empty_rows = skip_empty_rows, locale = locale, \n .     guess_max = guess_max, n_max = n_max, altrep = vroom_altrep(altrep), \n .     num_threads = num_threads, progress = progress)",
      "4. (function (path, write = FALSE) \n . {\n .     if (is.raw(path)) {\n .         return(rawConnection(path, \"rb\"))\n .     }\n .     if (!is.character(path)) {\n .         return(path)\n .     }\n .     if (is_url(path)) {\n .         if (requireNamespace(\"curl\", quietly = TRUE)) {\n .             con <- curl::curl(path)\n .         }\n .         else {\n .             rlang::inform(\"`curl` package not installed, falling back to using `url()`\")\n .             con <- url(path)\n .         }\n .         ext <- tolower(tools::file_ext(path))\n .         return(switch(ext, zip = , bz2 = , xz = {\n .             close(con)\n .             stop(\"Reading from remote `\", ext, \"` compressed files is not supported,\\n\", \n .                 \"  download the files locally first.\", call. = FALSE)\n .         }, gz = gzcon(con), con))\n .     }\n .     path <- enc2utf8(path)\n .     p <- split_path_ext(basename_utf8(path))\n .     if (write) {\n .         path <- normalizePath_utf8(path, mustWork = FALSE)\n .     }\n .     else {\n .         path <- check_path(path)\n .     }\n .     if (rlang::is_installed(\"archive\")) {\n .         formats <- archive_formats(p$extension)\n .         extension <- p$extension\n .         while (is.null(formats) && nzchar(extension)) {\n .             extension <- split_path_ext(extension)$extension\n .             formats <- archive_formats(extension)\n .         }\n .         if (!is.null(formats)) {\n .             p$extension <- extension\n .             if (write) {\n .                 if (is.null(formats[[1]])) {\n .                   return(archive::file_write(path, filter = formats[[2]]))\n .                 }\n .                 return(archive::archive_write(path, p$path, format = formats[[1]], \n .                   filter = formats[[2]]))\n .             }\n .             if (is.null(formats[[1]])) {\n .                 return(archive::file_read(path, filter = formats[[2]]))\n .             }\n .             return(archive::archive_read(path, format = formats[[1]], \n .                 filter = formats[[2]]))\n .         }\n .     }\n .     if (!write) {\n .         compression <- detect_compression(path)\n .     }\n .     else {\n .         compression <- NA\n .     }\n .     if (is.na(compression)) {\n .         compression <- tools::file_ext(path)\n .     }\n .     if (write && compression == \"zip\") {\n .         stop(\"Can only read from, not write to, .zip\", call. = FALSE)\n .     }\n .     switch(compression, gz = gzfile(path, \"\"), bz2 = bzfile(path, \n .         \"\"), xz = xzfile(path, \"\"), zip = zipfile(path, \"\"), \n .         if (!has_trailing_newline(path)) {\n .             file(path)\n .         } else {\n .             path\n .         })\n . })(\"DSCI-Group-Project/Employee-Attrition.csv\")",
      "5. check_path(path)",
      "6. stop(\"'\", path, \"' does not exist\", if (!is_absolute_path(path)) {\n .     paste0(\" in current working directory ('\", getwd(), \"')\")\n . }, \".\", call. = FALSE)"
     ]
    }
   ],
   "source": [
    "url <- \"https://raw.githubusercontent.com/wenshanli1231/DSCI-Group-Project/main/Employee-Attrition.csv\"\n",
    "download.file(url, destfile = \"DSCI-Group-Project/Employee-Attrition.csv\")\n",
    "\n",
    "attrition_data <- read_csv(\"DSCI-Group-Project/Employee-Attrition.csv\")\n",
    "attrition_data"
   ]
  },
  {
   "cell_type": "code",
   "execution_count": null,
   "id": "6b044ecb-8e66-4a8a-b163-f1e580dd9ed9",
   "metadata": {},
   "outputs": [],
   "source": []
  },
  {
   "cell_type": "code",
   "execution_count": 46,
   "id": "c30145dd-61b4-4b8e-aee1-dad18a0289de",
   "metadata": {
    "tags": []
   },
   "outputs": [
    {
     "data": {
      "text/html": [
       "<table class=\"dataframe\">\n",
       "<caption>A tibble: 1470 × 3</caption>\n",
       "<thead>\n",
       "\t<tr><th scope=col>Attrition</th><th scope=col>HourlyRate</th><th scope=col>YearsAtCompany</th></tr>\n",
       "\t<tr><th scope=col>&lt;chr&gt;</th><th scope=col>&lt;dbl&gt;</th><th scope=col>&lt;dbl&gt;</th></tr>\n",
       "</thead>\n",
       "<tbody>\n",
       "\t<tr><td>Yes</td><td>94</td><td> 6</td></tr>\n",
       "\t<tr><td>No </td><td>61</td><td>10</td></tr>\n",
       "\t<tr><td>Yes</td><td>92</td><td> 0</td></tr>\n",
       "\t<tr><td>⋮</td><td>⋮</td><td>⋮</td></tr>\n",
       "\t<tr><td>No</td><td>87</td><td>6</td></tr>\n",
       "\t<tr><td>No</td><td>63</td><td>9</td></tr>\n",
       "\t<tr><td>No</td><td>82</td><td>4</td></tr>\n",
       "</tbody>\n",
       "</table>\n"
      ],
      "text/latex": [
       "A tibble: 1470 × 3\n",
       "\\begin{tabular}{lll}\n",
       " Attrition & HourlyRate & YearsAtCompany\\\\\n",
       " <chr> & <dbl> & <dbl>\\\\\n",
       "\\hline\n",
       "\t Yes & 94 &  6\\\\\n",
       "\t No  & 61 & 10\\\\\n",
       "\t Yes & 92 &  0\\\\\n",
       "\t ⋮ & ⋮ & ⋮\\\\\n",
       "\t No & 87 & 6\\\\\n",
       "\t No & 63 & 9\\\\\n",
       "\t No & 82 & 4\\\\\n",
       "\\end{tabular}\n"
      ],
      "text/markdown": [
       "\n",
       "A tibble: 1470 × 3\n",
       "\n",
       "| Attrition &lt;chr&gt; | HourlyRate &lt;dbl&gt; | YearsAtCompany &lt;dbl&gt; |\n",
       "|---|---|---|\n",
       "| Yes | 94 |  6 |\n",
       "| No  | 61 | 10 |\n",
       "| Yes | 92 |  0 |\n",
       "| ⋮ | ⋮ | ⋮ |\n",
       "| No | 87 | 6 |\n",
       "| No | 63 | 9 |\n",
       "| No | 82 | 4 |\n",
       "\n"
      ],
      "text/plain": [
       "     Attrition HourlyRate YearsAtCompany\n",
       "1    Yes       94          6            \n",
       "2    No        61         10            \n",
       "3    Yes       92          0            \n",
       "⋮    ⋮         ⋮          ⋮             \n",
       "1468 No        87         6             \n",
       "1469 No        63         9             \n",
       "1470 No        82         4             "
      ]
     },
     "metadata": {},
     "output_type": "display_data"
    }
   ],
   "source": [
    "attrition_data <- attrition_data |>\n",
    "    select( Attrition, HourlyRate, YearsAtCompany)\n",
    "\n",
    "attrition_data"
   ]
  },
  {
   "cell_type": "code",
   "execution_count": 47,
   "id": "5da1dfec-25d0-4514-b81a-96be48e78323",
   "metadata": {
    "tags": []
   },
   "outputs": [],
   "source": [
    "attrition_data <- attrition_data |>\n",
    "        mutate(Attrition = as_factor(Attrition))"
   ]
  },
  {
   "cell_type": "code",
   "execution_count": 49,
   "id": "7d0144e8-af56-47a7-995c-c6206c8b0da8",
   "metadata": {
    "tags": []
   },
   "outputs": [],
   "source": [
    "set.seed(10)"
   ]
  },
  {
   "cell_type": "code",
   "execution_count": 50,
   "id": "0fadbd0b-6e10-471c-8ebc-c99aba592d3c",
   "metadata": {
    "tags": []
   },
   "outputs": [
    {
     "name": "stdout",
     "output_type": "stream",
     "text": [
      "Rows: 1,101\n",
      "Columns: 5\n",
      "$ Attrition               \u001b[3m\u001b[90m<fct>\u001b[39m\u001b[23m No, No, No, No, No, No, No, No, No, No, No, No…\n",
      "$ HourlyRate              \u001b[3m\u001b[90m<dbl>\u001b[39m\u001b[23m 61, 56, 40, 79, 81, 67, 44, 94, 84, 49, 31, 93…\n",
      "$ YearsAtCompany          \u001b[3m\u001b[90m<dbl>\u001b[39m\u001b[23m 10, 8, 2, 7, 1, 1, 9, 7, 5, 9, 5, 2, 10, 6, 1,…\n",
      "$ scaled_hourly_rate      \u001b[3m\u001b[90m<dbl[,1]>\u001b[39m\u001b[23m <matrix[26 x 1]>\n",
      "$ scaled_years_at_company \u001b[3m\u001b[90m<dbl[,1]>\u001b[39m\u001b[23m <matrix[26 x 1]>\n",
      "Rows: 369\n",
      "Columns: 5\n",
      "$ Attrition               \u001b[3m\u001b[90m<fct>\u001b[39m\u001b[23m Yes, No, No, Yes, No, No, No, No, No, No, No, …\n",
      "$ HourlyRate              \u001b[3m\u001b[90m<dbl>\u001b[39m\u001b[23m 50, 83, 82, 48, 98, 79, 30, 51, 50, 43, 59, 33…\n",
      "$ YearsAtCompany          \u001b[3m\u001b[90m<dbl>\u001b[39m\u001b[23m 4, 10, 1, 1, 9, 4, 2, 7, 10, 27, 17, 5, 1, 5, …\n",
      "$ scaled_hourly_rate      \u001b[3m\u001b[90m<dbl[,1]>\u001b[39m\u001b[23m <matrix[26 x 1]>\n",
      "$ scaled_years_at_company \u001b[3m\u001b[90m<dbl[,1]>\u001b[39m\u001b[23m <matrix[26 x 1]>\n"
     ]
    }
   ],
   "source": [
    "\n",
    "attrition_split <- initial_split(attrition_data_scaled, prop = 0.75, strata = Attrition)\n",
    "attrition_train <- training(attrition_split)\n",
    "attrition_test <- testing(attrition_split) \n",
    "\n",
    "glimpse(attrition_train)\n",
    "glimpse(attrition_test)"
   ]
  },
  {
   "cell_type": "code",
   "execution_count": 58,
   "id": "b14771cf-9cad-4fe9-8f3a-cb00c035b51f",
   "metadata": {
    "tags": []
   },
   "outputs": [
    {
     "ename": "ERROR",
     "evalue": "\u001b[1m\u001b[33mError\u001b[39m in `check_installs()`:\u001b[22m\n\u001b[33m!\u001b[39m This engine requires some package installs: 'kknn'\n",
     "output_type": "error",
     "traceback": [
      "\u001b[1m\u001b[33mError\u001b[39m in `check_installs()`:\u001b[22m\n\u001b[33m!\u001b[39m This engine requires some package installs: 'kknn'\nTraceback:\n",
      "1. fit(add_model(add_recipe(workflow(), attrition_recipe), knn_spec), \n .     data = attrition_train)",
      "2. fit.workflow(add_model(add_recipe(workflow(), attrition_recipe), \n .     knn_spec), data = attrition_train)",
      "3. .fit_model(workflow, control)",
      "4. fit(action_model, workflow = workflow, control = control)",
      "5. fit.action_model(action_model, workflow = workflow, control = control)",
      "6. fit_from_xy(spec, mold, case_weights, control_parsnip)",
      "7. fit_xy(spec, x = mold$predictors, y = mold$outcomes, case_weights = case_weights, \n .     control = control_parsnip)",
      "8. fit_xy.model_spec(spec, x = mold$predictors, y = mold$outcomes, \n .     case_weights = case_weights, control = control_parsnip)",
      "9. check_installs(object)",
      "10. rlang::abort(glue::glue(\"This engine requires some package installs: \", \n  .     glue::glue_collapse(glue::glue(\"'{missing_pkg}'\"), sep = \", \")))",
      "11. signal_abort(cnd, .file)"
     ]
    }
   ],
   "source": [
    "attrition_recipe <- recipe(Attrition~ HourlyRate + YearsAtCompany, data = attrition_data) |>\n",
    "    step_scale(all_predictors()) |>\n",
    "    step_center(all_predictors())\n",
    "    \n",
    "knn_spec<- nearest_neighbor(weight_func = \"rectangular\", neighbors = 3) |>\n",
    "       set_engine(\"kknn\") |>\n",
    "       set_mode(\"classification\")\n",
    "\n",
    "attrition_fit <- workflow() |>\n",
    "       add_recipe(attrition_recipe) |>\n",
    "       add_model(knn_spec) |>\n",
    "       fit(data = attrition_train)\n",
    "attrition_fit"
   ]
  },
  {
   "cell_type": "code",
   "execution_count": 51,
   "id": "2260f152-37ad-4c06-b433-14b70af0717e",
   "metadata": {
    "tags": []
   },
   "outputs": [
    {
     "data": {
      "text/html": [
       "<table class=\"dataframe\">\n",
       "<caption>A tibble: 2 × 3</caption>\n",
       "<thead>\n",
       "\t<tr><th scope=col>Attrition</th><th scope=col>n</th><th scope=col>percent</th></tr>\n",
       "\t<tr><th scope=col>&lt;fct&gt;</th><th scope=col>&lt;int&gt;</th><th scope=col>&lt;dbl&gt;</th></tr>\n",
       "</thead>\n",
       "<tbody>\n",
       "\t<tr><td>Yes</td><td>177</td><td>16.07629</td></tr>\n",
       "\t<tr><td>No </td><td>924</td><td>83.92371</td></tr>\n",
       "</tbody>\n",
       "</table>\n"
      ],
      "text/latex": [
       "A tibble: 2 × 3\n",
       "\\begin{tabular}{lll}\n",
       " Attrition & n & percent\\\\\n",
       " <fct> & <int> & <dbl>\\\\\n",
       "\\hline\n",
       "\t Yes & 177 & 16.07629\\\\\n",
       "\t No  & 924 & 83.92371\\\\\n",
       "\\end{tabular}\n"
      ],
      "text/markdown": [
       "\n",
       "A tibble: 2 × 3\n",
       "\n",
       "| Attrition &lt;fct&gt; | n &lt;int&gt; | percent &lt;dbl&gt; |\n",
       "|---|---|---|\n",
       "| Yes | 177 | 16.07629 |\n",
       "| No  | 924 | 83.92371 |\n",
       "\n"
      ],
      "text/plain": [
       "  Attrition n   percent \n",
       "1 Yes       177 16.07629\n",
       "2 No        924 83.92371"
      ]
     },
     "metadata": {},
     "output_type": "display_data"
    },
    {
     "data": {
      "text/html": [
       "<table class=\"dataframe\">\n",
       "<caption>A tibble: 2 × 3</caption>\n",
       "<thead>\n",
       "\t<tr><th scope=col>Attrition</th><th scope=col>n</th><th scope=col>percent</th></tr>\n",
       "\t<tr><th scope=col>&lt;fct&gt;</th><th scope=col>&lt;int&gt;</th><th scope=col>&lt;dbl&gt;</th></tr>\n",
       "</thead>\n",
       "<tbody>\n",
       "\t<tr><td>Yes</td><td>177</td><td>16.07629</td></tr>\n",
       "\t<tr><td>No </td><td>924</td><td>83.92371</td></tr>\n",
       "</tbody>\n",
       "</table>\n"
      ],
      "text/latex": [
       "A tibble: 2 × 3\n",
       "\\begin{tabular}{lll}\n",
       " Attrition & n & percent\\\\\n",
       " <fct> & <int> & <dbl>\\\\\n",
       "\\hline\n",
       "\t Yes & 177 & 16.07629\\\\\n",
       "\t No  & 924 & 83.92371\\\\\n",
       "\\end{tabular}\n"
      ],
      "text/markdown": [
       "\n",
       "A tibble: 2 × 3\n",
       "\n",
       "| Attrition &lt;fct&gt; | n &lt;int&gt; | percent &lt;dbl&gt; |\n",
       "|---|---|---|\n",
       "| Yes | 177 | 16.07629 |\n",
       "| No  | 924 | 83.92371 |\n",
       "\n"
      ],
      "text/plain": [
       "  Attrition n   percent \n",
       "1 Yes       177 16.07629\n",
       "2 No        924 83.92371"
      ]
     },
     "metadata": {},
     "output_type": "display_data"
    }
   ],
   "source": [
    "attrition_proportions <- attrition_train |>\n",
    "                      group_by(Attrition) |>\n",
    "                      summarize(n = n()) |>\n",
    "                      mutate(percent = 100*n/nrow(attrition_train))\n",
    "\n",
    "attrition_proportions\n",
    "\n",
    "attrition_proportions_train <- attrition_train |>\n",
    "                      group_by(Attrition) |>\n",
    "                      summarize(n = n()) |>\n",
    "                      mutate(percent = 100*n/nrow(attrition_train))\n",
    "\n",
    "attrition_proportions_train"
   ]
  },
  {
   "cell_type": "code",
   "execution_count": null,
   "id": "1479cd2e-21c1-4b1f-abe4-df851e4b8310",
   "metadata": {},
   "outputs": [],
   "source": []
  }
 ],
 "metadata": {
  "kernelspec": {
   "display_name": "R",
   "language": "R",
   "name": "ir"
  },
  "language_info": {
   "codemirror_mode": "r",
   "file_extension": ".r",
   "mimetype": "text/x-r-source",
   "name": "R",
   "pygments_lexer": "r",
   "version": "4.2.2"
  }
 },
 "nbformat": 4,
 "nbformat_minor": 5
}
