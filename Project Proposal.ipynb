{
 "cells": [
  {
   "cell_type": "markdown",
   "id": "96b46687-0885-4c1f-ab59-5a1ec80929b7",
   "metadata": {},
   "source": [
    "###Group Proposal###"
   ]
  },
  {
   "cell_type": "markdown",
   "id": "8e2c6a17-a330-44b3-af53-15d8c797c035",
   "metadata": {},
   "source": [
    "Hi all! We need to choose if we want to do a classification or regression question...as well as what our data set will be!\n",
    "\n",
    "So far, heart disease data set is winning but please list any others!"
   ]
  }
 ],
 "metadata": {
  "kernelspec": {
   "display_name": "R",
   "language": "R",
   "name": "ir"
  },
  "language_info": {
   "codemirror_mode": "r",
   "file_extension": ".r",
   "mimetype": "text/x-r-source",
   "name": "R",
   "pygments_lexer": "r",
   "version": "4.2.2"
  }
 },
 "nbformat": 4,
 "nbformat_minor": 5
}
