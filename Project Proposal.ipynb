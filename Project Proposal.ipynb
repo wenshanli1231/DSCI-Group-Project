{
 "cells": [
  {
   "cell_type": "markdown",
   "id": "96b46687-0885-4c1f-ab59-5a1ec80929b7",
   "metadata": {},
   "source": [
    "###Group Proposal###"
   ]
  },
  {
   "cell_type": "markdown",
   "id": "8e2c6a17-a330-44b3-af53-15d8c797c035",
   "metadata": {},
   "source": [
    "Hi all! We need to choose if we want to do a classification or regression question...as well as what our data set will be!\n",
    "\n",
    "So far, heart disease data set is winning but please list any others!"
   ]
  },
  {
   "cell_type": "markdown",
   "id": "01a8eac2-a994-4875-a2e2-116b1ab826b5",
   "metadata": {},
   "source": [
    "Title: Stroke Prediction \n",
    "\n",
    "Introduction:\n",
    "\n",
    "Preliminary exploratory data analysis:\n",
    "\n",
    "Methods:\n",
    "\n",
    "Expected outcomes and significance:"
   ]
  },
  {
   "cell_type": "code",
   "execution_count": null,
   "id": "c0a67eff-352d-4a5a-81de-d9712a6cd960",
   "metadata": {},
   "outputs": [],
   "source": []
  }
 ],
 "metadata": {
  "kernelspec": {
   "display_name": "Python 3 (ipykernel)",
   "language": "python",
   "name": "python3"
  },
  "language_info": {
   "codemirror_mode": {
    "name": "ipython",
    "version": 3
   },
   "file_extension": ".py",
   "mimetype": "text/x-python",
   "name": "python",
   "nbconvert_exporter": "python",
   "pygments_lexer": "ipython3",
   "version": "3.10.8"
  }
 },
 "nbformat": 4,
 "nbformat_minor": 5
}
