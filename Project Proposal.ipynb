{
 "cells": [
  {
   "cell_type": "markdown",
   "id": "96b46687-0885-4c1f-ab59-5a1ec80929b7",
   "metadata": {},
   "source": [
    "###Group Proposal###"
   ]
  },
  {
   "cell_type": "markdown",
   "id": "8e2c6a17-a330-44b3-af53-15d8c797c035",
   "metadata": {},
   "source": [
    "Hi all! We need to choose if we want to do a classification or regression question...as well as what our data set will be!\n",
    "\n",
    "So far, heart disease data set is winning but please list any others."
   ]
  },
  {
   "cell_type": "markdown",
   "id": "4fb8169b-6e86-4888-8e1d-6f45f28da716",
   "metadata": {},
   "source": [
    "Requirement: find a categorical variable and form a PREDICTIVE question"
   ]
  }
 ],
 "metadata": {
  "kernelspec": {
   "display_name": "Python 3 (ipykernel)",
   "language": "python",
   "name": "python3"
  },
  "language_info": {
   "codemirror_mode": {
    "name": "ipython",
    "version": 3
   },
   "file_extension": ".py",
   "mimetype": "text/x-python",
   "name": "python",
   "nbconvert_exporter": "python",
   "pygments_lexer": "ipython3",
   "version": "3.10.8"
  }
 },
 "nbformat": 4,
 "nbformat_minor": 5
}
