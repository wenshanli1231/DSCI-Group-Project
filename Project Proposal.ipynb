{
 "cells": [
  {
   "cell_type": "markdown",
   "id": "45889e33",
   "metadata": {},
   "source": [
    "Project Proposal"
   ]
  },
  {
   "cell_type": "markdown",
   "id": "82b2c2e3",
   "metadata": {},
   "source": [
    "Title:\n"
   ]
  },
  {
   "cell_type": "markdown",
   "id": "59a08c0d",
   "metadata": {},
   "source": [
    "Introduction:\n",
    "\n",
    "Provide some relevant background information on the topic so that someone unfamiliar with it will be prepared to understand the rest of your proposal\n",
    "Clearly state the question you will try to answer with your project\n",
    "Identify and describe the dataset that will be used to answer the question\n"
   ]
  },
  {
   "cell_type": "markdown",
   "id": "3e3b6af3",
   "metadata": {},
   "source": [
    "Preliminary exploratory data analysis:\n",
    "\n",
    "Demonstrate that the dataset can be read from the web into R \n",
    "Clean and wrangle your data into a tidy format\n",
    "Using only training data, summarize the data in at least one table (this is exploratory data analysis). An example of a useful table could be one that reports the number of observations in each class, the means of the predictor variables you plan to use in your analysis and how many rows have missing data. \n",
    "Using only training data, visualize the data with at least one plot relevant to the analysis you plan to do (this is exploratory data analysis). An example of a useful visualization could be one that compares the distributions of each of the predictor variables you plan to use in your analysis."
   ]
  },
  {
   "cell_type": "markdown",
   "id": "bc2f2928",
   "metadata": {},
   "source": [
    "Methods:\n",
    "\n",
    "Explain how you will conduct either your data analysis and which variables/columns you will use. Note - you do not need to use all variables/columns that exist in the raw data set. In fact, that's often not a good idea. For each variable think: is this a useful variable for prediction?\n",
    "Describe at least one way that you will visualize the results"
   ]
  },
  {
   "cell_type": "markdown",
   "id": "19af4ac6",
   "metadata": {},
   "source": [
    "Expected outcomes and significance:\n",
    "\n",
    "What do you expect to find?\n",
    "What impact could such findings have?\n",
    "What future questions could this lead to?"
   ]
  },
  {
   "cell_type": "code",
   "execution_count": null,
   "id": "6df0e1ff",
   "metadata": {
    "tags": []
   },
   "outputs": [],
   "source": [
    "install.packages(\"kknn\")\n",
    "library(tidyverse)\n",
    "library(repr)\n",
    "library(kknn)\n",
    "library(tidymodels)\n",
    "options(repr.matrix.max.rows = 6)"
   ]
  },
  {
   "cell_type": "code",
   "execution_count": null,
   "id": "f0e9f8a2",
   "metadata": {
    "tags": []
   },
   "outputs": [],
   "source": [
    "attrition_data<-read.csv (\"https://raw.githubusercontent.com/wenshanli1231/DSCI-Group-Project/main/Employee-Attrition.csv\")\n",
    "attrition_data"
   ]
  },
  {
   "cell_type": "code",
   "execution_count": null,
   "id": "20424aec",
   "metadata": {
    "tags": []
   },
   "outputs": [],
   "source": [
    "attrition_data <- attrition_data |>\n",
    "    select( Attrition, HourlyRate, YearsAtCompany)\n",
    "\n",
    "attrition_data <- attrition_data |>\n",
    "        mutate(Attrition = as_factor(Attrition))"
   ]
  },
  {
   "cell_type": "code",
   "execution_count": null,
   "id": "20f15cf5",
   "metadata": {
    "tags": []
   },
   "outputs": [],
   "source": [
    "attrition_split <- initial_split(attrition_data, prop = 0.75, strata = Attrition)\n",
    "attrition_train <- training(attrition_split)\n",
    "attrition_test <- testing(attrition_split) "
   ]
  },
  {
   "cell_type": "code",
   "execution_count": null,
   "id": "0643c5cc",
   "metadata": {
    "tags": []
   },
   "outputs": [],
   "source": [
    "set.seed(10)\n",
    "\n",
    "attrition_recipe <- recipe(Attrition~ HourlyRate + YearsAtCompany, data = attrition_data) |>\n",
    "    step_scale(all_predictors()) |>\n",
    "    step_center(all_predictors())\n",
    "    \n",
    "knn_spec<- nearest_neighbor(weight_func = \"rectangular\", neighbors = 3) |>\n",
    "       set_engine(\"kknn\") |>\n",
    "       set_mode(\"classification\")\n",
    "\n",
    "attrition_fit <- workflow() |>\n",
    "       add_recipe(attrition_recipe) |>\n",
    "       add_model(knn_spec) |>\n",
    "       fit(data = attrition_train)\n",
    "attrition_fit"
   ]
  },
  {
   "cell_type": "code",
   "execution_count": null,
   "id": "75b55737-92b0-4530-a2fd-a8fe8c63d5f1",
   "metadata": {
    "tags": []
   },
   "outputs": [],
   "source": [
    "attrition_table <- attrition_train |>\n",
    "        group_by(Attrition) |>\n",
    "        summarize( \n",
    "            mean_HourlyRate = mean(HourlyRate), \n",
    "            mean_YearsAtCompany = mean(YearsAtCompany), \n",
    "            count = n(), \n",
    "            count_blanks = sum(is.na(Attrition))\n",
    "        )\n",
    "\n",
    "attrition_table"
   ]
  },
  {
   "cell_type": "code",
   "execution_count": null,
   "id": "1b043bf7",
   "metadata": {
    "tags": []
   },
   "outputs": [],
   "source": [
    "attrition_proportions <- attrition_train |>\n",
    "                      group_by(Attrition) |>\n",
    "                      summarize(n = n()) |>\n",
    "                      mutate(percent = 100*n/nrow(attrition_train))\n",
    "\n",
    "attrition_proportions\n",
    "\n",
    "attrition_proportions_train <- attrition_train |>\n",
    "                      group_by(Attrition) |>\n",
    "                      summarize(n = n()) |>\n",
    "                      mutate(percent = 100*n/nrow(attrition_train))\n",
    "\n",
    "attrition_proportions_train\n",
    "\n",
    "\n",
    "attrition_plot <- ggplot(attrition_train, aes(x = YearsAtCompany, y = HourlyRate)) + \n",
    "            geom_point() +\n",
    "            xlab(\"Number of years at the company\") +\n",
    "            ylab(\"Hourly rate ($)\")\n",
    "            \n",
    "attrition_plot"
   ]
  }
 ],
 "metadata": {
  "kernelspec": {
   "display_name": "R",
   "language": "R",
   "name": "ir"
  },
  "language_info": {
   "codemirror_mode": "r",
   "file_extension": ".r",
   "mimetype": "text/x-r-source",
   "name": "R",
   "pygments_lexer": "r",
   "version": "4.2.2"
  }
 },
 "nbformat": 4,
 "nbformat_minor": 5
}
