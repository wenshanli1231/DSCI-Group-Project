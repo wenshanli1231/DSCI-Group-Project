{
 "cells": [
  {
   "cell_type": "markdown",
   "id": "45889e33",
   "metadata": {},
   "source": [
    "Project Proposal"
   ]
  },
  {
   "cell_type": "markdown",
   "id": "82b2c2e3",
   "metadata": {},
   "source": [
    "Title:\n"
   ]
  },
  {
   "cell_type": "markdown",
   "id": "59a08c0d",
   "metadata": {},
   "source": [
    "Introduction:\n",
    "\n",
    "Provide some relevant background information on the topic so that someone unfamiliar with it will be prepared to understand the rest of your proposal\n",
    "Clearly state the question you will try to answer with your project\n",
    "Identify and describe the dataset that will be used to answer the question\n"
   ]
  },
  {
   "cell_type": "markdown",
   "id": "3e3b6af3",
   "metadata": {},
   "source": [
    "Preliminary exploratory data analysis:\n",
    "\n",
    "Demonstrate that the dataset can be read from the web into R \n",
    "Clean and wrangle your data into a tidy format\n",
    "Using only training data, summarize the data in at least one table (this is exploratory data analysis). An example of a useful table could be one that reports the number of observations in each class, the means of the predictor variables you plan to use in your analysis and how many rows have missing data. \n",
    "Using only training data, visualize the data with at least one plot relevant to the analysis you plan to do (this is exploratory data analysis). An example of a useful visualization could be one that compares the distributions of each of the predictor variables you plan to use in your analysis."
   ]
  },
  {
   "cell_type": "markdown",
   "id": "bc2f2928",
   "metadata": {},
   "source": [
    "Methods:\n",
    "\n",
    "Explain how you will conduct either your data analysis and which variables/columns you will use. Note - you do not need to use all variables/columns that exist in the raw data set. In fact, that's often not a good idea. For each variable think: is this a useful variable for prediction?\n",
    "Describe at least one way that you will visualize the results"
   ]
  },
  {
   "cell_type": "markdown",
   "id": "19af4ac6",
   "metadata": {},
   "source": [
    "Expected outcomes and significance:\n",
    "\n",
    "What do you expect to find?\n",
    "What impact could such findings have?\n",
    "What future questions could this lead to?"
   ]
  },
  {
   "cell_type": "code",
   "execution_count": 43,
   "id": "6df0e1ff",
   "metadata": {
    "tags": []
   },
   "outputs": [],
   "source": [
    "library(tidyverse)\n",
    "library(repr)\n",
    "library(tidymodels)\n",
    "options(repr.matrix.max.rows = 6)"
   ]
  },
  {
   "cell_type": "code",
   "execution_count": 44,
   "id": "f0e9f8a2",
   "metadata": {
    "tags": []
   },
   "outputs": [
    {
     "data": {
      "text/html": [
       "<table class=\"dataframe\">\n",
       "<caption>A data.frame: 1470 × 35</caption>\n",
       "<thead>\n",
       "\t<tr><th scope=col>Age</th><th scope=col>Attrition</th><th scope=col>BusinessTravel</th><th scope=col>DailyRate</th><th scope=col>Department</th><th scope=col>DistanceFromHome</th><th scope=col>Education</th><th scope=col>EducationField</th><th scope=col>EmployeeCount</th><th scope=col>EmployeeNumber</th><th scope=col>⋯</th><th scope=col>RelationshipSatisfaction</th><th scope=col>StandardHours</th><th scope=col>StockOptionLevel</th><th scope=col>TotalWorkingYears</th><th scope=col>TrainingTimesLastYear</th><th scope=col>WorkLifeBalance</th><th scope=col>YearsAtCompany</th><th scope=col>YearsInCurrentRole</th><th scope=col>YearsSinceLastPromotion</th><th scope=col>YearsWithCurrManager</th></tr>\n",
       "\t<tr><th scope=col>&lt;int&gt;</th><th scope=col>&lt;chr&gt;</th><th scope=col>&lt;chr&gt;</th><th scope=col>&lt;int&gt;</th><th scope=col>&lt;chr&gt;</th><th scope=col>&lt;int&gt;</th><th scope=col>&lt;int&gt;</th><th scope=col>&lt;chr&gt;</th><th scope=col>&lt;int&gt;</th><th scope=col>&lt;int&gt;</th><th scope=col>⋯</th><th scope=col>&lt;int&gt;</th><th scope=col>&lt;int&gt;</th><th scope=col>&lt;int&gt;</th><th scope=col>&lt;int&gt;</th><th scope=col>&lt;int&gt;</th><th scope=col>&lt;int&gt;</th><th scope=col>&lt;int&gt;</th><th scope=col>&lt;int&gt;</th><th scope=col>&lt;int&gt;</th><th scope=col>&lt;int&gt;</th></tr>\n",
       "</thead>\n",
       "<tbody>\n",
       "\t<tr><td>41</td><td>Yes</td><td>Travel_Rarely    </td><td>1102</td><td>Sales                 </td><td>1</td><td>2</td><td>Life Sciences</td><td>1</td><td>1</td><td>⋯</td><td>1</td><td>80</td><td>0</td><td> 8</td><td>0</td><td>1</td><td> 6</td><td>4</td><td>0</td><td>5</td></tr>\n",
       "\t<tr><td>49</td><td>No </td><td>Travel_Frequently</td><td> 279</td><td>Research &amp; Development</td><td>8</td><td>1</td><td>Life Sciences</td><td>1</td><td>2</td><td>⋯</td><td>4</td><td>80</td><td>1</td><td>10</td><td>3</td><td>3</td><td>10</td><td>7</td><td>1</td><td>7</td></tr>\n",
       "\t<tr><td>37</td><td>Yes</td><td><span style=white-space:pre-wrap>Travel_Rarely    </span></td><td>1373</td><td>Research &amp; Development</td><td>2</td><td>2</td><td><span style=white-space:pre-wrap>Other        </span></td><td>1</td><td>4</td><td>⋯</td><td>2</td><td>80</td><td>0</td><td> 7</td><td>3</td><td>3</td><td> 0</td><td>0</td><td>0</td><td>0</td></tr>\n",
       "\t<tr><td>⋮</td><td>⋮</td><td>⋮</td><td>⋮</td><td>⋮</td><td>⋮</td><td>⋮</td><td>⋮</td><td>⋮</td><td>⋮</td><td>⋱</td><td>⋮</td><td>⋮</td><td>⋮</td><td>⋮</td><td>⋮</td><td>⋮</td><td>⋮</td><td>⋮</td><td>⋮</td><td>⋮</td></tr>\n",
       "\t<tr><td>27</td><td>No</td><td><span style=white-space:pre-wrap>Travel_Rarely    </span></td><td> 155</td><td>Research &amp; Development</td><td>4</td><td>3</td><td>Life Sciences</td><td>1</td><td>2064</td><td>⋯</td><td>2</td><td>80</td><td>1</td><td> 6</td><td>0</td><td>3</td><td>6</td><td>2</td><td>0</td><td>3</td></tr>\n",
       "\t<tr><td>49</td><td>No</td><td>Travel_Frequently</td><td>1023</td><td>Sales                 </td><td>2</td><td>3</td><td>Medical      </td><td>1</td><td>2065</td><td>⋯</td><td>4</td><td>80</td><td>0</td><td>17</td><td>3</td><td>2</td><td>9</td><td>6</td><td>0</td><td>8</td></tr>\n",
       "\t<tr><td>34</td><td>No</td><td><span style=white-space:pre-wrap>Travel_Rarely    </span></td><td> 628</td><td>Research &amp; Development</td><td>8</td><td>3</td><td><span style=white-space:pre-wrap>Medical      </span></td><td>1</td><td>2068</td><td>⋯</td><td>1</td><td>80</td><td>0</td><td> 6</td><td>3</td><td>4</td><td>4</td><td>3</td><td>1</td><td>2</td></tr>\n",
       "</tbody>\n",
       "</table>\n"
      ],
      "text/latex": [
       "A data.frame: 1470 × 35\n",
       "\\begin{tabular}{lllllllllllllllllllll}\n",
       " Age & Attrition & BusinessTravel & DailyRate & Department & DistanceFromHome & Education & EducationField & EmployeeCount & EmployeeNumber & ⋯ & RelationshipSatisfaction & StandardHours & StockOptionLevel & TotalWorkingYears & TrainingTimesLastYear & WorkLifeBalance & YearsAtCompany & YearsInCurrentRole & YearsSinceLastPromotion & YearsWithCurrManager\\\\\n",
       " <int> & <chr> & <chr> & <int> & <chr> & <int> & <int> & <chr> & <int> & <int> & ⋯ & <int> & <int> & <int> & <int> & <int> & <int> & <int> & <int> & <int> & <int>\\\\\n",
       "\\hline\n",
       "\t 41 & Yes & Travel\\_Rarely     & 1102 & Sales                  & 1 & 2 & Life Sciences & 1 & 1 & ⋯ & 1 & 80 & 0 &  8 & 0 & 1 &  6 & 4 & 0 & 5\\\\\n",
       "\t 49 & No  & Travel\\_Frequently &  279 & Research \\& Development & 8 & 1 & Life Sciences & 1 & 2 & ⋯ & 4 & 80 & 1 & 10 & 3 & 3 & 10 & 7 & 1 & 7\\\\\n",
       "\t 37 & Yes & Travel\\_Rarely     & 1373 & Research \\& Development & 2 & 2 & Other         & 1 & 4 & ⋯ & 2 & 80 & 0 &  7 & 3 & 3 &  0 & 0 & 0 & 0\\\\\n",
       "\t ⋮ & ⋮ & ⋮ & ⋮ & ⋮ & ⋮ & ⋮ & ⋮ & ⋮ & ⋮ & ⋱ & ⋮ & ⋮ & ⋮ & ⋮ & ⋮ & ⋮ & ⋮ & ⋮ & ⋮ & ⋮\\\\\n",
       "\t 27 & No & Travel\\_Rarely     &  155 & Research \\& Development & 4 & 3 & Life Sciences & 1 & 2064 & ⋯ & 2 & 80 & 1 &  6 & 0 & 3 & 6 & 2 & 0 & 3\\\\\n",
       "\t 49 & No & Travel\\_Frequently & 1023 & Sales                  & 2 & 3 & Medical       & 1 & 2065 & ⋯ & 4 & 80 & 0 & 17 & 3 & 2 & 9 & 6 & 0 & 8\\\\\n",
       "\t 34 & No & Travel\\_Rarely     &  628 & Research \\& Development & 8 & 3 & Medical       & 1 & 2068 & ⋯ & 1 & 80 & 0 &  6 & 3 & 4 & 4 & 3 & 1 & 2\\\\\n",
       "\\end{tabular}\n"
      ],
      "text/markdown": [
       "\n",
       "A data.frame: 1470 × 35\n",
       "\n",
       "| Age &lt;int&gt; | Attrition &lt;chr&gt; | BusinessTravel &lt;chr&gt; | DailyRate &lt;int&gt; | Department &lt;chr&gt; | DistanceFromHome &lt;int&gt; | Education &lt;int&gt; | EducationField &lt;chr&gt; | EmployeeCount &lt;int&gt; | EmployeeNumber &lt;int&gt; | ⋯ ⋯ | RelationshipSatisfaction &lt;int&gt; | StandardHours &lt;int&gt; | StockOptionLevel &lt;int&gt; | TotalWorkingYears &lt;int&gt; | TrainingTimesLastYear &lt;int&gt; | WorkLifeBalance &lt;int&gt; | YearsAtCompany &lt;int&gt; | YearsInCurrentRole &lt;int&gt; | YearsSinceLastPromotion &lt;int&gt; | YearsWithCurrManager &lt;int&gt; |\n",
       "|---|---|---|---|---|---|---|---|---|---|---|---|---|---|---|---|---|---|---|---|---|\n",
       "| 41 | Yes | Travel_Rarely     | 1102 | Sales                  | 1 | 2 | Life Sciences | 1 | 1 | ⋯ | 1 | 80 | 0 |  8 | 0 | 1 |  6 | 4 | 0 | 5 |\n",
       "| 49 | No  | Travel_Frequently |  279 | Research &amp; Development | 8 | 1 | Life Sciences | 1 | 2 | ⋯ | 4 | 80 | 1 | 10 | 3 | 3 | 10 | 7 | 1 | 7 |\n",
       "| 37 | Yes | Travel_Rarely     | 1373 | Research &amp; Development | 2 | 2 | Other         | 1 | 4 | ⋯ | 2 | 80 | 0 |  7 | 3 | 3 |  0 | 0 | 0 | 0 |\n",
       "| ⋮ | ⋮ | ⋮ | ⋮ | ⋮ | ⋮ | ⋮ | ⋮ | ⋮ | ⋮ | ⋱ | ⋮ | ⋮ | ⋮ | ⋮ | ⋮ | ⋮ | ⋮ | ⋮ | ⋮ | ⋮ |\n",
       "| 27 | No | Travel_Rarely     |  155 | Research &amp; Development | 4 | 3 | Life Sciences | 1 | 2064 | ⋯ | 2 | 80 | 1 |  6 | 0 | 3 | 6 | 2 | 0 | 3 |\n",
       "| 49 | No | Travel_Frequently | 1023 | Sales                  | 2 | 3 | Medical       | 1 | 2065 | ⋯ | 4 | 80 | 0 | 17 | 3 | 2 | 9 | 6 | 0 | 8 |\n",
       "| 34 | No | Travel_Rarely     |  628 | Research &amp; Development | 8 | 3 | Medical       | 1 | 2068 | ⋯ | 1 | 80 | 0 |  6 | 3 | 4 | 4 | 3 | 1 | 2 |\n",
       "\n"
      ],
      "text/plain": [
       "     Age Attrition BusinessTravel    DailyRate Department            \n",
       "1    41  Yes       Travel_Rarely     1102      Sales                 \n",
       "2    49  No        Travel_Frequently  279      Research & Development\n",
       "3    37  Yes       Travel_Rarely     1373      Research & Development\n",
       "⋮    ⋮   ⋮         ⋮                 ⋮         ⋮                     \n",
       "1468 27  No        Travel_Rarely      155      Research & Development\n",
       "1469 49  No        Travel_Frequently 1023      Sales                 \n",
       "1470 34  No        Travel_Rarely      628      Research & Development\n",
       "     DistanceFromHome Education EducationField EmployeeCount EmployeeNumber ⋯\n",
       "1    1                2         Life Sciences  1             1              ⋯\n",
       "2    8                1         Life Sciences  1             2              ⋯\n",
       "3    2                2         Other          1             4              ⋯\n",
       "⋮    ⋮                ⋮         ⋮              ⋮             ⋮              ⋱\n",
       "1468 4                3         Life Sciences  1             2064           ⋯\n",
       "1469 2                3         Medical        1             2065           ⋯\n",
       "1470 8                3         Medical        1             2068           ⋯\n",
       "     RelationshipSatisfaction StandardHours StockOptionLevel TotalWorkingYears\n",
       "1    1                        80            0                 8               \n",
       "2    4                        80            1                10               \n",
       "3    2                        80            0                 7               \n",
       "⋮    ⋮                        ⋮             ⋮                ⋮                \n",
       "1468 2                        80            1                 6               \n",
       "1469 4                        80            0                17               \n",
       "1470 1                        80            0                 6               \n",
       "     TrainingTimesLastYear WorkLifeBalance YearsAtCompany YearsInCurrentRole\n",
       "1    0                     1                6             4                 \n",
       "2    3                     3               10             7                 \n",
       "3    3                     3                0             0                 \n",
       "⋮    ⋮                     ⋮               ⋮              ⋮                 \n",
       "1468 0                     3               6              2                 \n",
       "1469 3                     2               9              6                 \n",
       "1470 3                     4               4              3                 \n",
       "     YearsSinceLastPromotion YearsWithCurrManager\n",
       "1    0                       5                   \n",
       "2    1                       7                   \n",
       "3    0                       0                   \n",
       "⋮    ⋮                       ⋮                   \n",
       "1468 0                       3                   \n",
       "1469 0                       8                   \n",
       "1470 1                       2                   "
      ]
     },
     "metadata": {},
     "output_type": "display_data"
    }
   ],
   "source": [
    "attrition_data<-read.csv (\"https://raw.githubusercontent.com/wenshanli1231/DSCI-Group-Project/main/Employee-Attrition.csv\")\n",
    "attrition_data"
   ]
  },
  {
   "cell_type": "code",
   "execution_count": 45,
   "id": "20424aec",
   "metadata": {
    "tags": []
   },
   "outputs": [],
   "source": [
    "attrition_data <- attrition_data |>\n",
    "    select( Attrition, HourlyRate, YearsAtCompany)\n",
    "\n",
    "attrition_data <- attrition_data |>\n",
    "        mutate(Attrition = as_factor(Attrition))"
   ]
  },
  {
   "cell_type": "code",
   "execution_count": 46,
   "id": "20f15cf5",
   "metadata": {
    "tags": []
   },
   "outputs": [],
   "source": [
    "attrition_split <- initial_split(attrition_data, prop = 0.75, strata = Attrition)\n",
    "attrition_train <- training(attrition_split)\n",
    "attrition_test <- testing(attrition_split) "
   ]
  },
  {
   "cell_type": "code",
   "execution_count": 50,
   "id": "0643c5cc",
   "metadata": {
    "tags": []
   },
   "outputs": [
    {
     "ename": "ERROR",
     "evalue": "\u001b[1m\u001b[33mError\u001b[39m in `check_installs()`:\u001b[22m\n\u001b[33m!\u001b[39m This engine requires some package installs: 'kknn'\n",
     "output_type": "error",
     "traceback": [
      "\u001b[1m\u001b[33mError\u001b[39m in `check_installs()`:\u001b[22m\n\u001b[33m!\u001b[39m This engine requires some package installs: 'kknn'\nTraceback:\n",
      "1. fit(add_model(add_recipe(workflow(), attrition_recipe), attrition_spec), \n .     data = attrition_train)",
      "2. fit.workflow(add_model(add_recipe(workflow(), attrition_recipe), \n .     attrition_spec), data = attrition_train)",
      "3. .fit_model(workflow, control)",
      "4. fit(action_model, workflow = workflow, control = control)",
      "5. fit.action_model(action_model, workflow = workflow, control = control)",
      "6. fit_from_xy(spec, mold, case_weights, control_parsnip)",
      "7. fit_xy(spec, x = mold$predictors, y = mold$outcomes, case_weights = case_weights, \n .     control = control_parsnip)",
      "8. fit_xy.model_spec(spec, x = mold$predictors, y = mold$outcomes, \n .     case_weights = case_weights, control = control_parsnip)",
      "9. check_installs(object)",
      "10. rlang::abort(glue::glue(\"This engine requires some package installs: \", \n  .     glue::glue_collapse(glue::glue(\"'{missing_pkg}'\"), sep = \", \")))",
      "11. signal_abort(cnd, .file)"
     ]
    }
   ],
   "source": [
    "set.seed(10)\n",
    "\n",
    "attrition_recipe <- recipe(Attrition~ HourlyRate + YearsAtCompany, data = attrition_train) |>\n",
    "    step_scale(all_predictors()) |>\n",
    "    step_center(all_predictors())\n",
    "    \n",
    "attrition_spec <- nearest_neighbor(weight_func = \"rectangular\", neighbors = 3) |>\n",
    "       set_engine(\"kknn\") |>\n",
    "       set_mode(\"classification\")\n",
    "\n",
    "attrition_fit <- workflow() |>\n",
    "       add_recipe(attrition_recipe) |>\n",
    "       add_model(attrition_spec) |>\n",
    "       fit(data = attrition_train)\n"
   ]
  },
  {
   "cell_type": "markdown",
   "id": "f47c0d32-5e6e-40be-b7a8-54cc20459881",
   "metadata": {},
   "source": [
    "**Summarized training data in 1 table code**\n"
   ]
  },
  {
   "cell_type": "code",
   "execution_count": 52,
   "id": "75b55737-92b0-4530-a2fd-a8fe8c63d5f1",
   "metadata": {
    "tags": []
   },
   "outputs": [
    {
     "data": {
      "text/html": [
       "<table class=\"dataframe\">\n",
       "<caption>A tibble: 2 × 5</caption>\n",
       "<thead>\n",
       "\t<tr><th scope=col>Attrition</th><th scope=col>mean_HourlyRate</th><th scope=col>mean_YearsAtCompany</th><th scope=col>count</th><th scope=col>count_blanks</th></tr>\n",
       "\t<tr><th scope=col>&lt;fct&gt;</th><th scope=col>&lt;dbl&gt;</th><th scope=col>&lt;dbl&gt;</th><th scope=col>&lt;int&gt;</th><th scope=col>&lt;int&gt;</th></tr>\n",
       "</thead>\n",
       "<tbody>\n",
       "\t<tr><td>Yes</td><td>65.72881</td><td>4.881356</td><td>177</td><td>0</td></tr>\n",
       "\t<tr><td>No </td><td>66.57143</td><td>7.480519</td><td>924</td><td>0</td></tr>\n",
       "</tbody>\n",
       "</table>\n"
      ],
      "text/latex": [
       "A tibble: 2 × 5\n",
       "\\begin{tabular}{lllll}\n",
       " Attrition & mean\\_HourlyRate & mean\\_YearsAtCompany & count & count\\_blanks\\\\\n",
       " <fct> & <dbl> & <dbl> & <int> & <int>\\\\\n",
       "\\hline\n",
       "\t Yes & 65.72881 & 4.881356 & 177 & 0\\\\\n",
       "\t No  & 66.57143 & 7.480519 & 924 & 0\\\\\n",
       "\\end{tabular}\n"
      ],
      "text/markdown": [
       "\n",
       "A tibble: 2 × 5\n",
       "\n",
       "| Attrition &lt;fct&gt; | mean_HourlyRate &lt;dbl&gt; | mean_YearsAtCompany &lt;dbl&gt; | count &lt;int&gt; | count_blanks &lt;int&gt; |\n",
       "|---|---|---|---|---|\n",
       "| Yes | 65.72881 | 4.881356 | 177 | 0 |\n",
       "| No  | 66.57143 | 7.480519 | 924 | 0 |\n",
       "\n"
      ],
      "text/plain": [
       "  Attrition mean_HourlyRate mean_YearsAtCompany count count_blanks\n",
       "1 Yes       65.72881        4.881356            177   0           \n",
       "2 No        66.57143        7.480519            924   0           "
      ]
     },
     "metadata": {},
     "output_type": "display_data"
    }
   ],
   "source": [
    "attrition_table <- attrition_train |>\n",
    "        group_by(Attrition) |>\n",
    "        summarize( \n",
    "            mean_HourlyRate = mean(HourlyRate), \n",
    "            mean_YearsAtCompany = mean(YearsAtCompany), \n",
    "            count = n(), \n",
    "            count_blanks = sum(is.na(Attrition))\n",
    "        )\n",
    "\n",
    "attrition_table"
   ]
  },
  {
   "cell_type": "markdown",
   "id": "318713d0-2d49-48aa-b6c5-88fd8d5dcab7",
   "metadata": {},
   "source": [
    "**Visualization of training data code**"
   ]
  },
  {
   "cell_type": "code",
   "execution_count": null,
   "id": "2a28d6a0-37ed-4609-8716-afbfee158f0a",
   "metadata": {
    "tags": []
   },
   "outputs": [],
   "source": [
    "attrition_plot1 <- ggplot(attrition_train, aes(x = YearsAtCompany)) + \n",
    "            geom_histogram(binwidth = 5, fill = \"yellow\", color = \"black\") +\n",
    "            ylab(\"Number of employees\") +  #Standarized or unstandardized\n",
    "            labs(title = \"Distribution\") +\n",
    "            facet_grid(rows = vars(HourlyRate))\n",
    "\n",
    "attrition_plot1"
   ]
  },
  {
   "cell_type": "code",
   "execution_count": 62,
   "id": "1b043bf7",
   "metadata": {},
   "outputs": [
    {
     "data": {
      "text/html": [
       "<table class=\"dataframe\">\n",
       "<caption>A tibble: 2 × 3</caption>\n",
       "<thead>\n",
       "\t<tr><th scope=col>Attrition</th><th scope=col>n</th><th scope=col>percent</th></tr>\n",
       "\t<tr><th scope=col>&lt;fct&gt;</th><th scope=col>&lt;int&gt;</th><th scope=col>&lt;dbl&gt;</th></tr>\n",
       "</thead>\n",
       "<tbody>\n",
       "\t<tr><td>Yes</td><td>177</td><td>16.07629</td></tr>\n",
       "\t<tr><td>No </td><td>924</td><td>83.92371</td></tr>\n",
       "</tbody>\n",
       "</table>\n"
      ],
      "text/latex": [
       "A tibble: 2 × 3\n",
       "\\begin{tabular}{lll}\n",
       " Attrition & n & percent\\\\\n",
       " <fct> & <int> & <dbl>\\\\\n",
       "\\hline\n",
       "\t Yes & 177 & 16.07629\\\\\n",
       "\t No  & 924 & 83.92371\\\\\n",
       "\\end{tabular}\n"
      ],
      "text/markdown": [
       "\n",
       "A tibble: 2 × 3\n",
       "\n",
       "| Attrition &lt;fct&gt; | n &lt;int&gt; | percent &lt;dbl&gt; |\n",
       "|---|---|---|\n",
       "| Yes | 177 | 16.07629 |\n",
       "| No  | 924 | 83.92371 |\n",
       "\n"
      ],
      "text/plain": [
       "  Attrition n   percent \n",
       "1 Yes       177 16.07629\n",
       "2 No        924 83.92371"
      ]
     },
     "metadata": {},
     "output_type": "display_data"
    },
    {
     "data": {
      "text/html": [
       "<table class=\"dataframe\">\n",
       "<caption>A tibble: 2 × 3</caption>\n",
       "<thead>\n",
       "\t<tr><th scope=col>Attrition</th><th scope=col>n</th><th scope=col>percent</th></tr>\n",
       "\t<tr><th scope=col>&lt;fct&gt;</th><th scope=col>&lt;int&gt;</th><th scope=col>&lt;dbl&gt;</th></tr>\n",
       "</thead>\n",
       "<tbody>\n",
       "\t<tr><td>Yes</td><td>177</td><td>16.07629</td></tr>\n",
       "\t<tr><td>No </td><td>924</td><td>83.92371</td></tr>\n",
       "</tbody>\n",
       "</table>\n"
      ],
      "text/latex": [
       "A tibble: 2 × 3\n",
       "\\begin{tabular}{lll}\n",
       " Attrition & n & percent\\\\\n",
       " <fct> & <int> & <dbl>\\\\\n",
       "\\hline\n",
       "\t Yes & 177 & 16.07629\\\\\n",
       "\t No  & 924 & 83.92371\\\\\n",
       "\\end{tabular}\n"
      ],
      "text/markdown": [
       "\n",
       "A tibble: 2 × 3\n",
       "\n",
       "| Attrition &lt;fct&gt; | n &lt;int&gt; | percent &lt;dbl&gt; |\n",
       "|---|---|---|\n",
       "| Yes | 177 | 16.07629 |\n",
       "| No  | 924 | 83.92371 |\n",
       "\n"
      ],
      "text/plain": [
       "  Attrition n   percent \n",
       "1 Yes       177 16.07629\n",
       "2 No        924 83.92371"
      ]
     },
     "metadata": {},
     "output_type": "display_data"
    }
   ],
   "source": [
    "attrition_proportions <- attrition_train |>\n",
    "                      group_by(Attrition) |>\n",
    "                      summarize(n = n()) |>\n",
    "                      mutate(percent = 100*n/nrow(attrition_train))\n",
    "\n",
    "attrition_proportions\n",
    "\n",
    "attrition_proportions_train <- attrition_train |>\n",
    "                      group_by(Attrition) |>\n",
    "                      summarize(n = n()) |>\n",
    "                      mutate(percent = 100*n/nrow(attrition_train))\n",
    "\n",
    "attrition_proportions_train\n",
    "\n"
   ]
  },
  {
   "cell_type": "code",
   "execution_count": null,
   "id": "34c11b7b-401d-4ec9-ac01-3df9cfa3a58f",
   "metadata": {},
   "outputs": [],
   "source": []
  }
 ],
 "metadata": {
  "kernelspec": {
   "display_name": "R",
   "language": "R",
   "name": "ir"
  },
  "language_info": {
   "codemirror_mode": "r",
   "file_extension": ".r",
   "mimetype": "text/x-r-source",
   "name": "R",
   "pygments_lexer": "r",
   "version": "4.2.2"
  }
 },
 "nbformat": 4,
 "nbformat_minor": 5
}
